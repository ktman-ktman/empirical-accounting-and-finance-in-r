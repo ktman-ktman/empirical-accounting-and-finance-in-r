{
 "cells": [
  {
   "cell_type": "markdown",
   "metadata": {},
   "source": [
    "# 演習8"
   ]
  },
  {
   "cell_type": "code",
   "execution_count": 1,
   "metadata": {},
   "outputs": [
    {
     "data": {
      "text/plain": [
       "1000"
      ]
     },
     "metadata": {},
     "output_type": "display_data"
    }
   ],
   "source": [
    "ENV[\"LINES\"] = 10\n",
    "ENV[\"COLUMNS\"] = 1000"
   ]
  },
  {
   "cell_type": "code",
   "execution_count": 2,
   "metadata": {},
   "outputs": [],
   "source": [
    "using DataFrames, DataFramesMeta, CSV, Dates, StatsBase, CategoricalArrays, Distributions"
   ]
  },
  {
   "cell_type": "code",
   "execution_count": 3,
   "metadata": {},
   "outputs": [],
   "source": [
    "# 演習2\n",
    "return_data_df = CSV.read(\"../../data/ch08_return_data.csv\", DataFrame, missingstring=[\"NA\"])\n",
    "market_return_data_df = CSV.read(\"../../data/ch08_market_return_data.csv\", DataFrame, missingstring=[\"NA\"])\n",
    "event_data_df = CSV.read(\"../../data/ch08_event_data.csv\", DataFrame, missingstring=[\"NA\"])\n",
    "\n",
    "## 予想サプライズの計算とグルーピング\n",
    "event_data_df = @chain event_data_df begin\n",
    "    @transform(:event_ID = 1:size(event_data_df)[1])\n",
    "    @rtransform begin\n",
    "        :surp = (:earnings_forecast - :realized_earnings) / :lagged_ME\n",
    "        :year = Dates.Year(:event_date).value\n",
    "    end\n",
    "    groupby(:year)\n",
    "    @transform(:surp_rank = cut(:surp, 5, labels=1:5))\n",
    "end\n",
    "\n",
    "## 日付インデックスを作成\n",
    "N_DAYS = market_return_data_df.date |> unique |> length\n",
    "N_FIRMS = return_data_df.firm_ID |> unique |> length\n",
    "N_EVENTS = event_data_df.event_date |> unique |> length\n",
    "\n",
    "date_ID_df = DataFrame(\n",
    "    :date => market_return_data_df.date |> unique |> sort,\n",
    "    :date_ID => 1:N_DAYS,\n",
    ")\n",
    "\n",
    "market_return_data_df = innerjoin(market_return_data_df, date_ID_df, on = :date)\n",
    "\n",
    "return_data_df = @chain return_data_df begin\n",
    "    innerjoin(date_ID_df, on = [:date])\n",
    "    @select($(Not(:date)))\n",
    "    innerjoin(market_return_data_df, on = [:date_ID])\n",
    "end\n",
    "\n",
    "event_data_df = @chain event_data_df begin\n",
    "    innerjoin(date_ID_df, on = [:event_date => :date])\n",
    "    @select(:firm_ID, :surp, :surp_rank, :date_ID, :event_date, :year, :event_ID)\n",
    "end\n",
    "\n",
    "full_sample_data_df = DataFrame(\n",
    "    :event_ID => repeat(1:N_EVENTS, (100 + 30 + 1 + 30)) |> sort,\n",
    "    :relative_days => repeat(-(100 + 30):30, N_EVENTS)\n",
    ")\n",
    "\n",
    "@chain event_data_df begin\n",
    "    innerjoin(full_sample_data_df, on = :event_ID)\n",
    "    rename(:date_ID => :base_date_ID)\n",
    "    @rtransform begin\n",
    "        :date_ID = :base_date_ID + :relative_days + 1\n",
    "    end\n",
    "    innerjoin(return_data_df, on = [:date_ID])\n",
    "end"
   ]
  },
  {
   "cell_type": "code",
   "execution_count": 24,
   "metadata": {},
   "outputs": [
    {
     "data": {
      "text/html": [
       "<div class=\"data-frame\"><p>3,960 rows × 5 columns</p><table class=\"data-frame\"><thead><tr><th></th><th>firm_ID</th><th>event_date</th><th>realized_earnings</th><th>earnings_forecast</th><th>lagged_ME</th></tr><tr><th></th><th title=\"Int64\">Int64</th><th title=\"Date\">Date</th><th title=\"Float64\">Float64</th><th title=\"Float64\">Float64</th><th title=\"Float64\">Float64</th></tr></thead><tbody><tr><th>1</th><td>1</td><td>2017-05-08</td><td>421.79</td><td>500.38</td><td>8285.87</td></tr><tr><th>2</th><td>2</td><td>2017-08-28</td><td>131.49</td><td>144.13</td><td>1551.31</td></tr><tr><th>3</th><td>3</td><td>2017-10-17</td><td>459.3</td><td>463.03</td><td>3154.17</td></tr><tr><th>4</th><td>4</td><td>2017-10-17</td><td>976.94</td><td>1298.48</td><td>19323.2</td></tr><tr><th>5</th><td>5</td><td>2017-02-09</td><td>706.28</td><td>779.63</td><td>9351.8</td></tr><tr><th>6</th><td>6</td><td>2017-05-23</td><td>530.62</td><td>544.65</td><td>7558.49</td></tr><tr><th>7</th><td>7</td><td>2017-05-16</td><td>613.26</td><td>717.0</td><td>11947.4</td></tr><tr><th>8</th><td>8</td><td>2017-03-08</td><td>142.95</td><td>157.86</td><td>2215.57</td></tr><tr><th>9</th><td>9</td><td>2017-10-10</td><td>802.61</td><td>792.09</td><td>13913.7</td></tr><tr><th>10</th><td>10</td><td>2018-02-23</td><td>582.51</td><td>601.22</td><td>11213.7</td></tr><tr><th>&vellip;</th><td>&vellip;</td><td>&vellip;</td><td>&vellip;</td><td>&vellip;</td><td>&vellip;</td></tr></tbody></table></div>"
      ],
      "text/latex": [
       "\\begin{tabular}{r|ccccc}\n",
       "\t& firm\\_ID & event\\_date & realized\\_earnings & earnings\\_forecast & lagged\\_ME\\\\\n",
       "\t\\hline\n",
       "\t& Int64 & Date & Float64 & Float64 & Float64\\\\\n",
       "\t\\hline\n",
       "\t1 & 1 & 2017-05-08 & 421.79 & 500.38 & 8285.87 \\\\\n",
       "\t2 & 2 & 2017-08-28 & 131.49 & 144.13 & 1551.31 \\\\\n",
       "\t3 & 3 & 2017-10-17 & 459.3 & 463.03 & 3154.17 \\\\\n",
       "\t4 & 4 & 2017-10-17 & 976.94 & 1298.48 & 19323.2 \\\\\n",
       "\t5 & 5 & 2017-02-09 & 706.28 & 779.63 & 9351.8 \\\\\n",
       "\t6 & 6 & 2017-05-23 & 530.62 & 544.65 & 7558.49 \\\\\n",
       "\t7 & 7 & 2017-05-16 & 613.26 & 717.0 & 11947.4 \\\\\n",
       "\t8 & 8 & 2017-03-08 & 142.95 & 157.86 & 2215.57 \\\\\n",
       "\t9 & 9 & 2017-10-10 & 802.61 & 792.09 & 13913.7 \\\\\n",
       "\t10 & 10 & 2018-02-23 & 582.51 & 601.22 & 11213.7 \\\\\n",
       "\t$\\dots$ & $\\dots$ & $\\dots$ & $\\dots$ & $\\dots$ & $\\dots$ \\\\\n",
       "\\end{tabular}\n"
      ],
      "text/plain": [
       "\u001b[1m3960×5 DataFrame\u001b[0m\n",
       "\u001b[1m  Row \u001b[0m│\u001b[1m firm_ID \u001b[0m\u001b[1m event_date \u001b[0m\u001b[1m realized_earnings \u001b[0m\u001b[1m earnings_forecast \u001b[0m\u001b[1m lagged_ME \u001b[0m\n",
       "\u001b[1m      \u001b[0m│\u001b[90m Int64   \u001b[0m\u001b[90m Date       \u001b[0m\u001b[90m Float64           \u001b[0m\u001b[90m Float64           \u001b[0m\u001b[90m Float64   \u001b[0m\n",
       "──────┼──────────────────────────────────────────────────────────────────────\n",
       "    1 │       1  2017-05-08             421.79             500.38    8285.87\n",
       "  ⋮   │    ⋮         ⋮               ⋮                  ⋮              ⋮\n",
       "\u001b[36m                                                            3959 rows omitted\u001b[0m"
      ]
     },
     "metadata": {},
     "output_type": "display_data"
    }
   ],
   "source": []
  },
  {
   "cell_type": "code",
   "execution_count": null,
   "metadata": {},
   "outputs": [],
   "source": []
  }
 ],
 "metadata": {
  "kernelspec": {
   "display_name": "Julia 1.8.0",
   "language": "julia",
   "name": "julia-1.8"
  },
  "language_info": {
   "file_extension": ".jl",
   "mimetype": "application/julia",
   "name": "julia",
   "version": "1.8.0"
  },
  "orig_nbformat": 4,
  "vscode": {
   "interpreter": {
    "hash": "31f2aee4e71d21fbe5cf8b01ff0e069b9275f58929596ceb00d14d90e3e16cd6"
   }
  }
 },
 "nbformat": 4,
 "nbformat_minor": 2
}
