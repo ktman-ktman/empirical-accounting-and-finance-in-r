{
 "cells": [
  {
   "cell_type": "markdown",
   "metadata": {},
   "source": [
    "# 演習8"
   ]
  },
  {
   "cell_type": "code",
   "execution_count": 1,
   "metadata": {},
   "outputs": [
    {
     "data": {
      "text/plain": [
       "1000"
      ]
     },
     "metadata": {},
     "output_type": "display_data"
    }
   ],
   "source": [
    "ENV[\"LINES\"] = 10\n",
    "ENV[\"COLUMNS\"] = 1000"
   ]
  },
  {
   "cell_type": "code",
   "execution_count": 20,
   "metadata": {},
   "outputs": [],
   "source": [
    "using DataFrames, DataFramesMeta, CSV, Dates, StatsBase, CategoricalArrays, Distributions"
   ]
  },
  {
   "cell_type": "code",
   "execution_count": 74,
   "metadata": {},
   "outputs": [
    {
     "data": {
      "text/html": [
       "<div class=\"data-frame\"><p>1,230 rows × 6 columns</p><table class=\"data-frame\"><thead><tr><th></th><th>firm_ID</th><th>base_event_date</th><th>time</th><th>date_idx</th><th>adj_date_idx</th><th>adj_event_date</th></tr><tr><th></th><th title=\"Int64\">Int64</th><th title=\"Date\">Date</th><th title=\"Time\">Time</th><th title=\"Int64\">Int64</th><th title=\"Int64\">Int64</th><th title=\"Date\">Date</th></tr></thead><tbody><tr><th>1</th><td>1</td><td>2019-09-24</td><td>17:00:00</td><td>420</td><td>421</td><td>2019-09-25</td></tr><tr><th>2</th><td>2</td><td>2019-09-09</td><td>15:00:00</td><td>411</td><td>411</td><td>2019-09-09</td></tr><tr><th>3</th><td>3</td><td>2019-11-01</td><td>16:00:00</td><td>446</td><td>447</td><td>2019-11-05</td></tr><tr><th>4</th><td>4</td><td>2019-04-26</td><td>14:00:00</td><td>323</td><td>323</td><td>2019-04-26</td></tr><tr><th>5</th><td>5</td><td>2019-03-29</td><td>17:00:00</td><td>303</td><td>304</td><td>2019-04-01</td></tr><tr><th>6</th><td>6</td><td>2019-09-09</td><td>17:00:00</td><td>411</td><td>412</td><td>2019-09-10</td></tr><tr><th>7</th><td>7</td><td>2019-08-13</td><td>14:00:00</td><td>392</td><td>392</td><td>2019-08-13</td></tr><tr><th>8</th><td>8</td><td>2019-09-05</td><td>15:00:00</td><td>409</td><td>409</td><td>2019-09-05</td></tr><tr><th>9</th><td>9</td><td>2019-02-08</td><td>15:30:00</td><td>270</td><td>270</td><td>2019-02-08</td></tr><tr><th>10</th><td>10</td><td>2019-10-25</td><td>16:00:00</td><td>441</td><td>442</td><td>2019-10-28</td></tr><tr><th>&vellip;</th><td>&vellip;</td><td>&vellip;</td><td>&vellip;</td><td>&vellip;</td><td>&vellip;</td><td>&vellip;</td></tr></tbody></table></div>"
      ],
      "text/latex": [
       "\\begin{tabular}{r|cccccc}\n",
       "\t& firm\\_ID & base\\_event\\_date & time & date\\_idx & adj\\_date\\_idx & adj\\_event\\_date\\\\\n",
       "\t\\hline\n",
       "\t& Int64 & Date & Time & Int64 & Int64 & Date\\\\\n",
       "\t\\hline\n",
       "\t1 & 1 & 2019-09-24 & 17:00:00 & 420 & 421 & 2019-09-25 \\\\\n",
       "\t2 & 2 & 2019-09-09 & 15:00:00 & 411 & 411 & 2019-09-09 \\\\\n",
       "\t3 & 3 & 2019-11-01 & 16:00:00 & 446 & 447 & 2019-11-05 \\\\\n",
       "\t4 & 4 & 2019-04-26 & 14:00:00 & 323 & 323 & 2019-04-26 \\\\\n",
       "\t5 & 5 & 2019-03-29 & 17:00:00 & 303 & 304 & 2019-04-01 \\\\\n",
       "\t6 & 6 & 2019-09-09 & 17:00:00 & 411 & 412 & 2019-09-10 \\\\\n",
       "\t7 & 7 & 2019-08-13 & 14:00:00 & 392 & 392 & 2019-08-13 \\\\\n",
       "\t8 & 8 & 2019-09-05 & 15:00:00 & 409 & 409 & 2019-09-05 \\\\\n",
       "\t9 & 9 & 2019-02-08 & 15:30:00 & 270 & 270 & 2019-02-08 \\\\\n",
       "\t10 & 10 & 2019-10-25 & 16:00:00 & 441 & 442 & 2019-10-28 \\\\\n",
       "\t$\\dots$ & $\\dots$ & $\\dots$ & $\\dots$ & $\\dots$ & $\\dots$ & $\\dots$ \\\\\n",
       "\\end{tabular}\n"
      ],
      "text/plain": [
       "\u001b[1m1230×6 DataFrame\u001b[0m\n",
       "\u001b[1m  Row \u001b[0m│\u001b[1m firm_ID \u001b[0m\u001b[1m base_event_date \u001b[0m\u001b[1m time     \u001b[0m\u001b[1m date_idx \u001b[0m\u001b[1m adj_date_idx \u001b[0m\u001b[1m adj_event_date \u001b[0m\n",
       "\u001b[1m      \u001b[0m│\u001b[90m Int64   \u001b[0m\u001b[90m Date            \u001b[0m\u001b[90m Time     \u001b[0m\u001b[90m Int64    \u001b[0m\u001b[90m Int64        \u001b[0m\u001b[90m Date           \u001b[0m\n",
       "──────┼────────────────────────────────────────────────────────────────────────────\n",
       "    1 │       1  2019-09-24       17:00:00       420           421  2019-09-25\n",
       "  ⋮   │    ⋮            ⋮            ⋮         ⋮           ⋮              ⋮\n",
       "\u001b[36m                                                                  1229 rows omitted\u001b[0m"
      ]
     },
     "metadata": {},
     "output_type": "display_data"
    }
   ],
   "source": [
    "#演習6\n",
    "buyback_return_df = CSV.read(\"../../data/ch08_buyback_return.csv\", DataFrame, missingstring=[\"NA\"])\n",
    "buyback_date_df = CSV.read(\"../../data/ch08_buyback_date.csv\", DataFrame, missingstring=[\"NA\"])\n",
    "\n",
    "# date_idx_df = @chain buyback_return_df begin\n",
    "#     @select(:date)\n",
    "#     unique\n",
    "#     @orderby(:date)\n",
    "#     @transform(:date_idx = 1:nrow(_))\n",
    "# end\n",
    "date_idx_df = @chain buyback_return_df begin\n",
    "    @select(:date)\n",
    "    unique\n",
    "end\n",
    "@transform!(date_idx_df, :date_idx = 1:size(date_idx_df)[1])\n",
    "data_df = innerjoin(buyback_date_df, date_idx_df, on = :event_date => :date)\n",
    "rename!(data_df, :event_date => :base_event_date)\n",
    "@rtransform!(data_df, :adj_date_idx = ifelse(Dates.Hour(:time).value <= 15, :date_idx, :date_idx + 1))\n",
    "data_df = innerjoin(data_df, date_idx_df, on = :adj_date_idx => :date_idx)\n",
    "rename!(data_df, :date => :adj_event_date)\n"
   ]
  },
  {
   "cell_type": "code",
   "execution_count": null,
   "metadata": {},
   "outputs": [],
   "source": [
    "function calcualte_ar()\n",
    "    buyback_return_df = CSV.read(\"../../data/ch08_buyback_return.csv\", DataFrame, missingstring=[\"NA\"])\n",
    "end"
   ]
  }
 ],
 "metadata": {
  "kernelspec": {
   "display_name": "Julia 1.8.0",
   "language": "julia",
   "name": "julia-1.8"
  },
  "language_info": {
   "file_extension": ".jl",
   "mimetype": "application/julia",
   "name": "julia",
   "version": "1.8.0"
  },
  "orig_nbformat": 4,
  "vscode": {
   "interpreter": {
    "hash": "31f2aee4e71d21fbe5cf8b01ff0e069b9275f58929596ceb00d14d90e3e16cd6"
   }
  }
 },
 "nbformat": 4,
 "nbformat_minor": 2
}
