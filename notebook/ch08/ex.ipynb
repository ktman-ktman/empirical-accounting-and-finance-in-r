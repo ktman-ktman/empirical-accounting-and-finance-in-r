{
 "cells": [
  {
   "cell_type": "markdown",
   "metadata": {},
   "source": [
    "# 演習8"
   ]
  },
  {
   "cell_type": "code",
   "execution_count": 1,
   "metadata": {},
   "outputs": [
    {
     "data": {
      "text/plain": [
       "1000"
      ]
     },
     "metadata": {},
     "output_type": "display_data"
    }
   ],
   "source": [
    "ENV[\"LINES\"] = 10\n",
    "ENV[\"COLUMNS\"] = 1000"
   ]
  },
  {
   "cell_type": "code",
   "execution_count": 16,
   "metadata": {},
   "outputs": [],
   "source": [
    "using DataFrames, DataFramesMeta, CSV, Dates, StatsBase, CategoricalArrays, Distributions, GLM"
   ]
  },
  {
   "cell_type": "code",
   "execution_count": 38,
   "metadata": {},
   "outputs": [
    {
     "ename": "ArgumentError",
     "evalue": "ArgumentError: column name :alpha not found in the data frame",
     "output_type": "error",
     "traceback": [
      "ArgumentError: column name :alpha not found in the data frame\n",
      "\n",
      "Stacktrace:\n",
      "  [1] lookupname\n",
      "    @ /workspaces/empirical-accounting-and-finance-in-r/.julia/packages/DataFrames/a6np0/src/other/index.jl:392 [inlined]\n",
      "  [2] getindex\n",
      "    @ /workspaces/empirical-accounting-and-finance-in-r/.julia/packages/DataFrames/a6np0/src/other/index.jl:401 [inlined]\n",
      "  [3] (::DataFrames.var\"#463#464\"{DataFrames.Index})(n::Symbol)\n",
      "    @ DataFrames ./none:0\n",
      "  [4] iterate\n",
      "    @ ./generator.jl:47 [inlined]\n",
      "  [5] collect(itr::Base.Generator{Vector{Symbol}, DataFrames.var\"#463#464\"{DataFrames.Index}})\n",
      "    @ Base ./array.jl:787\n",
      "  [6] normalize_selection(idx::DataFrames.Index, sel::Pair{<:Any, <:Pair{<:Union{Function, Type}, <:Union{AbstractVector{Symbol}, AbstractString, DataType, Function, Symbol, AbstractVector{<:AbstractString}}}}, renamecols::Bool)\n",
      "    @ DataFrames /workspaces/empirical-accounting-and-finance-in-r/.julia/packages/DataFrames/a6np0/src/abstractdataframe/selection.jl:412\n",
      "  [7] _combine_prepare_norm(gd::GroupedDataFrame{DataFrame}, cs_vec::Vector{Any}, keepkeys::Bool, ungroup::Bool, copycols::Bool, keeprows::Bool, renamecols::Bool)\n",
      "    @ DataFrames /workspaces/empirical-accounting-and-finance-in-r/.julia/packages/DataFrames/a6np0/src/groupeddataframe/splitapplycombine.jl:68\n",
      "  [8] _combine_prepare(gd::GroupedDataFrame{DataFrame}, ::Base.RefValue{Any}; keepkeys::Bool, ungroup::Bool, copycols::Bool, keeprows::Bool, renamecols::Bool)\n",
      "    @ DataFrames /workspaces/empirical-accounting-and-finance-in-r/.julia/packages/DataFrames/a6np0/src/groupeddataframe/splitapplycombine.jl:50\n",
      "  [9] combine(::GroupedDataFrame{DataFrame}, ::Union{Regex, AbstractString, Function, Signed, Symbol, Unsigned, Pair, Type, All, Between, Cols, InvertedIndex, AbstractVecOrMat}, ::Vararg{Union{Regex, AbstractString, Function, Signed, Symbol, Unsigned, Pair, Type, All, Between, Cols, InvertedIndex, AbstractVecOrMat}}; keepkeys::Bool, ungroup::Bool, renamecols::Bool)\n",
      "    @ DataFrames /workspaces/empirical-accounting-and-finance-in-r/.julia/packages/DataFrames/a6np0/src/groupeddataframe/splitapplycombine.jl:710\n",
      " [10] combine(gd::GroupedDataFrame{DataFrame}, args::Union{Regex, AbstractString, Function, Signed, Symbol, Unsigned, Pair, Type, All, Between, Cols, InvertedIndex, AbstractVecOrMat})\n",
      "    @ DataFrames /workspaces/empirical-accounting-and-finance-in-r/.julia/packages/DataFrames/a6np0/src/groupeddataframe/splitapplycombine.jl:710\n",
      " [11] top-level scope\n",
      "    @ /workspaces/empirical-accounting-and-finance-in-r/notebook/ch08/ex.ipynb:1944"
     ]
    }
   ],
   "source": [
    "# 演習2\n",
    "return_data_df = CSV.read(\"../../data/ch08_return_data.csv\", DataFrame, missingstring=[\"NA\"])\n",
    "market_return_data_df = CSV.read(\"../../data/ch08_market_return_data.csv\", DataFrame, missingstring=[\"NA\"])\n",
    "event_data_df = CSV.read(\"../../data/ch08_event_data.csv\", DataFrame, missingstring=[\"NA\"])\n",
    "\n",
    "## 予想サプライズの計算とグルーピング\n",
    "event_data_df = @chain event_data_df begin\n",
    "    @transform(:event_ID = 1:size(event_data_df)[1])\n",
    "    @rtransform begin\n",
    "        :surp = (:earnings_forecast - :realized_earnings) / :lagged_ME\n",
    "        :year = Dates.Year(:event_date).value\n",
    "    end\n",
    "    groupby(:year)\n",
    "    @transform(:surp_rank = cut(:surp, 5, labels=1:5))\n",
    "end\n",
    "\n",
    "## 日付インデックスを作成\n",
    "N_DAYS = market_return_data_df.date |> unique |> length\n",
    "N_FIRMS = return_data_df.firm_ID |> unique |> length\n",
    "N_EVENTS = event_data_df.event_date |> unique |> length\n",
    "\n",
    "date_ID_df = DataFrame(\n",
    "    :date => market_return_data_df.date |> unique |> sort,\n",
    "    :date_ID => 1:N_DAYS,\n",
    ")\n",
    "\n",
    "market_return_data_df = innerjoin(market_return_data_df, date_ID_df, on = :date)\n",
    "\n",
    "return_data_df = @chain return_data_df begin\n",
    "    innerjoin(date_ID_df, on = [:date])\n",
    "    @select($(Not(:date)))\n",
    "    innerjoin(market_return_data_df, on = [:date_ID])\n",
    "end\n",
    "\n",
    "event_data_df = @chain event_data_df begin\n",
    "    innerjoin(date_ID_df, on = [:event_date => :date])\n",
    "    @select(:firm_ID, :surp, :surp_rank, :date_ID, :event_date, :year, :event_ID)\n",
    "end\n",
    "\n",
    "full_sample_data_df = DataFrame(\n",
    "    :event_ID => repeat(1:N_EVENTS, (100 + 30 + 1 + 30)) |> sort,\n",
    "    :relative_days => repeat(-(100 + 30):30, N_EVENTS)\n",
    ")\n",
    "\n",
    "event_data_df = @chain event_data_df begin\n",
    "    innerjoin(full_sample_data_df, on = :event_ID)\n",
    "    rename(:date_ID => :base_date_ID)\n",
    "    @rtransform begin\n",
    "        :date_ID = :base_date_ID + :relative_days + 1\n",
    "    end\n",
    "    innerjoin(return_data_df, on = [:firm_ID, :date_ID])\n",
    "end\n",
    "\n",
    "## ベータ推計\n",
    "function estimate_beta(market_returns, returns)\n",
    "    df = DataFrame(:R => returns, :R_M => market_returns)\n",
    "    mdl = lm(@formula(R ~ R_M), df)\n",
    "    return coef(mdl)\n",
    "end\n",
    "\n",
    "beta_df = @chain event_data_df begin\n",
    "    @rsubset(:relative_days < -30)\n",
    "    groupby(:firm_ID)\n",
    "    @combine begin\n",
    "        $AsTable = (:alpha, :beta = estimate_beta(:R_M, :R))\n",
    "    end\n",
    "end\n",
    "\n",
    "## CARを計算\n",
    "@chain event_data_df begin\n",
    "    @rsubset(:relative_days >= -30)\n",
    "    innerjoin(beta_df, on = :firm_ID)\n",
    "    @rtransform(:AR = :R - :beta * :R_M)\n",
    "end"
   ]
  },
  {
   "cell_type": "code",
   "execution_count": 34,
   "metadata": {},
   "outputs": [
    {
     "data": {
      "text/html": [
       "<div class=\"data-frame\"><p>786 rows × 2 columns</p><table class=\"data-frame\"><thead><tr><th></th><th>firm_ID</th><th>beta</th></tr><tr><th></th><th title=\"Int64\">Int64</th><th title=\"Float64\">Float64</th></tr></thead><tbody><tr><th>1</th><td>1</td><td>1.14012</td></tr><tr><th>2</th><td>2</td><td>0.303635</td></tr><tr><th>3</th><td>3</td><td>1.22318</td></tr><tr><th>4</th><td>4</td><td>0.886377</td></tr><tr><th>5</th><td>5</td><td>0.840162</td></tr><tr><th>6</th><td>6</td><td>1.06973</td></tr><tr><th>7</th><td>7</td><td>0.751604</td></tr><tr><th>8</th><td>8</td><td>1.33021</td></tr><tr><th>9</th><td>9</td><td>1.28661</td></tr><tr><th>10</th><td>10</td><td>0.749953</td></tr><tr><th>&vellip;</th><td>&vellip;</td><td>&vellip;</td></tr></tbody></table></div>"
      ],
      "text/latex": [
       "\\begin{tabular}{r|cc}\n",
       "\t& firm\\_ID & beta\\\\\n",
       "\t\\hline\n",
       "\t& Int64 & Float64\\\\\n",
       "\t\\hline\n",
       "\t1 & 1 & 1.14012 \\\\\n",
       "\t2 & 2 & 0.303635 \\\\\n",
       "\t3 & 3 & 1.22318 \\\\\n",
       "\t4 & 4 & 0.886377 \\\\\n",
       "\t5 & 5 & 0.840162 \\\\\n",
       "\t6 & 6 & 1.06973 \\\\\n",
       "\t7 & 7 & 0.751604 \\\\\n",
       "\t8 & 8 & 1.33021 \\\\\n",
       "\t9 & 9 & 1.28661 \\\\\n",
       "\t10 & 10 & 0.749953 \\\\\n",
       "\t$\\dots$ & $\\dots$ & $\\dots$ \\\\\n",
       "\\end{tabular}\n"
      ],
      "text/plain": [
       "\u001b[1m786×2 DataFrame\u001b[0m\n",
       "\u001b[1m Row \u001b[0m│\u001b[1m firm_ID \u001b[0m\u001b[1m beta     \u001b[0m\n",
       "\u001b[1m     \u001b[0m│\u001b[90m Int64   \u001b[0m\u001b[90m Float64  \u001b[0m\n",
       "─────┼───────────────────\n",
       "   1 │       1  1.14012\n",
       "  ⋮  │    ⋮        ⋮\n",
       "\u001b[36m         785 rows omitted\u001b[0m"
      ]
     },
     "metadata": {},
     "output_type": "display_data"
    }
   ],
   "source": []
  },
  {
   "cell_type": "code",
   "execution_count": 33,
   "metadata": {},
   "outputs": [
    {
     "data": {
      "text/plain": [
       "estimate_beta (generic function with 2 methods)"
      ]
     },
     "metadata": {},
     "output_type": "display_data"
    }
   ],
   "source": []
  },
  {
   "cell_type": "code",
   "execution_count": 27,
   "metadata": {},
   "outputs": [
    {
     "data": {
      "text/plain": [
       "StatsModels.TableRegressionModel{LinearModel{GLM.LmResp{Vector{Float64}}, GLM.DensePredChol{Float64, LinearAlgebra.CholeskyPivoted{Float64, Matrix{Float64}, Vector{Int64}}}}, Matrix{Float64}}\n",
       "\n",
       "R ~ 1 + R_M\n",
       "\n",
       "Coefficients:\n",
       "─────────────────────────────────────────────────────────────────────────────────\n",
       "                   Coef.  Std. Error       t  Pr(>|t|)     Lower 95%    Upper 95%\n",
       "─────────────────────────────────────────────────────────────────────────────────\n",
       "(Intercept)  -6.11084e-5  2.44565e-5   -2.50    0.0125  -0.000109043  -1.31742e-5\n",
       "R_M           0.992691    0.00231592  428.64    <1e-99   0.988152      0.997231\n",
       "─────────────────────────────────────────────────────────────────────────────────"
      ]
     },
     "metadata": {},
     "output_type": "display_data"
    }
   ],
   "source": [
    "mdl = estimate_beta(event_data_df)"
   ]
  },
  {
   "cell_type": "code",
   "execution_count": 32,
   "metadata": {},
   "outputs": [
    {
     "data": {
      "text/plain": [
       "0.9926913378133373"
      ]
     },
     "metadata": {},
     "output_type": "display_data"
    }
   ],
   "source": [
    "coef(mdl)[2]"
   ]
  },
  {
   "cell_type": "code",
   "execution_count": null,
   "metadata": {},
   "outputs": [],
   "source": []
  }
 ],
 "metadata": {
  "kernelspec": {
   "display_name": "Julia 1.8.1",
   "language": "julia",
   "name": "julia-1.8"
  },
  "language_info": {
   "file_extension": ".jl",
   "mimetype": "application/julia",
   "name": "julia",
   "version": "1.8.1"
  },
  "orig_nbformat": 4,
  "vscode": {
   "interpreter": {
    "hash": "31f2aee4e71d21fbe5cf8b01ff0e069b9275f58929596ceb00d14d90e3e16cd6"
   }
  }
 },
 "nbformat": 4,
 "nbformat_minor": 2
}
