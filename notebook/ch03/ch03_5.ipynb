{
 "cells": [
  {
   "cell_type": "markdown",
   "metadata": {},
   "source": [
    "# 3.5 データフレーム入門"
   ]
  },
  {
   "cell_type": "code",
   "execution_count": 23,
   "metadata": {},
   "outputs": [],
   "source": [
    "using DataFrames, CSV, Statistics"
   ]
  },
  {
   "cell_type": "code",
   "execution_count": 7,
   "metadata": {},
   "outputs": [
    {
     "name": "stdout",
     "output_type": "stream",
     "text": [
      "\u001b[1m21×3 DataFrame\u001b[0m\n",
      "\u001b[1m Row \u001b[0m│\u001b[1m date       \u001b[0m\u001b[1m firm1       \u001b[0m\u001b[1m firm2        \u001b[0m\n",
      "\u001b[1m     \u001b[0m│\u001b[90m Date       \u001b[0m\u001b[90m Float64     \u001b[0m\u001b[90m Float64      \u001b[0m\n",
      "─────┼───────────────────────────────────────\n",
      "   1 │ 2020-04-01  -0.0394821    0.0769626\n",
      "   2 │ 2020-04-02   0.00597869  -0.00724885\n",
      "   3 │ 2020-04-03   0.0557866   -0.0173041\n",
      "   4 │ 2020-04-06   0.0419347    0.00216896\n",
      "   5 │ 2020-04-07  -0.0201928    0.0755454\n",
      "   6 │ 2020-04-08  -0.0022947   -0.0962117\n",
      "   7 │ 2020-04-09   0.0817072    0.078843\n",
      "   8 │ 2020-04-10   0.034561     0.0215362\n",
      "   9 │ 2020-04-13   0.0326013    0.135201\n",
      "  10 │ 2020-04-14  -0.0376631    0.0379793\n",
      "  11 │ 2020-04-15   0.00987981   0.0114271\n",
      "  12 │ 2020-04-16  -0.0270286   -0.0534881\n",
      "  13 │ 2020-04-17   0.171297     0.0394629\n",
      "  14 │ 2020-04-20   0.0463253    0.0372737\n",
      "  15 │ 2020-04-21  -0.0145933   -0.000305644\n",
      "  16 │ 2020-04-22   0.0515427   -0.0538182\n",
      "  17 │ 2020-04-23  -0.028875    -0.0354842\n",
      "  18 │ 2020-04-24  -0.0413784   -0.00411053\n",
      "  19 │ 2020-04-27   0.0045375   -0.0196147\n",
      "  20 │ 2020-04-28  -0.0720706   -0.0468734\n",
      "  21 │ 2020-04-30   0.0448116   -0.01341\n"
     ]
    }
   ],
   "source": [
    "#ch03_56\n",
    "daily_stock_return_df = DataFrame(CSV.File(\"../../data/ch03_daily_stock_return.csv\"))\n",
    "println(daily_stock_return_df)"
   ]
  },
  {
   "cell_type": "code",
   "execution_count": 9,
   "metadata": {},
   "outputs": [
    {
     "data": {
      "text/html": [
       "<div class=\"data-frame\"><p>5 rows × 3 columns</p><table class=\"data-frame\"><thead><tr><th></th><th>date</th><th>firm1</th><th>firm2</th></tr><tr><th></th><th title=\"Dates.Date\">Date</th><th title=\"Float64\">Float64</th><th title=\"Float64\">Float64</th></tr></thead><tbody><tr><th>1</th><td>2020-04-01</td><td>-0.0394821</td><td>0.0769626</td></tr><tr><th>2</th><td>2020-04-02</td><td>0.00597869</td><td>-0.00724885</td></tr><tr><th>3</th><td>2020-04-03</td><td>0.0557866</td><td>-0.0173041</td></tr><tr><th>4</th><td>2020-04-06</td><td>0.0419347</td><td>0.00216896</td></tr><tr><th>5</th><td>2020-04-07</td><td>-0.0201928</td><td>0.0755454</td></tr></tbody></table></div>"
      ],
      "text/latex": [
       "\\begin{tabular}{r|ccc}\n",
       "\t& date & firm1 & firm2\\\\\n",
       "\t\\hline\n",
       "\t& Date & Float64 & Float64\\\\\n",
       "\t\\hline\n",
       "\t1 & 2020-04-01 & -0.0394821 & 0.0769626 \\\\\n",
       "\t2 & 2020-04-02 & 0.00597869 & -0.00724885 \\\\\n",
       "\t3 & 2020-04-03 & 0.0557866 & -0.0173041 \\\\\n",
       "\t4 & 2020-04-06 & 0.0419347 & 0.00216896 \\\\\n",
       "\t5 & 2020-04-07 & -0.0201928 & 0.0755454 \\\\\n",
       "\\end{tabular}\n"
      ],
      "text/plain": [
       "\u001b[1m5×3 DataFrame\u001b[0m\n",
       "\u001b[1m Row \u001b[0m│\u001b[1m date       \u001b[0m\u001b[1m firm1       \u001b[0m\u001b[1m firm2       \u001b[0m\n",
       "\u001b[1m     \u001b[0m│\u001b[90m Date       \u001b[0m\u001b[90m Float64     \u001b[0m\u001b[90m Float64     \u001b[0m\n",
       "─────┼──────────────────────────────────────\n",
       "   1 │ 2020-04-01  -0.0394821    0.0769626\n",
       "   2 │ 2020-04-02   0.00597869  -0.00724885\n",
       "   3 │ 2020-04-03   0.0557866   -0.0173041\n",
       "   4 │ 2020-04-06   0.0419347    0.00216896\n",
       "   5 │ 2020-04-07  -0.0201928    0.0755454"
      ]
     },
     "metadata": {},
     "output_type": "display_data"
    }
   ],
   "source": [
    "#ch03_37\n",
    "first(daily_stock_return_df, 5)"
   ]
  },
  {
   "cell_type": "code",
   "execution_count": 14,
   "metadata": {},
   "outputs": [
    {
     "data": {
      "text/plain": [
       "21"
      ]
     },
     "metadata": {},
     "output_type": "display_data"
    }
   ],
   "source": [
    "#ch03_38\n",
    "size(daily_stock_return_df)[1]"
   ]
  },
  {
   "cell_type": "code",
   "execution_count": 22,
   "metadata": {},
   "outputs": [
    {
     "data": {
      "text/html": [
       "<div class=\"data-frame\"><p>3 rows × 7 columns</p><table class=\"data-frame\"><thead><tr><th></th><th>variable</th><th>mean</th><th>min</th><th>median</th><th>max</th><th>nmissing</th><th>eltype</th></tr><tr><th></th><th title=\"Symbol\">Symbol</th><th title=\"Union{Nothing, Float64}\">Union…</th><th title=\"Any\">Any</th><th title=\"Any\">Any</th><th title=\"Any\">Any</th><th title=\"Int64\">Int64</th><th title=\"DataType\">DataType</th></tr></thead><tbody><tr><th>1</th><td>date</td><td></td><td>2020-04-01</td><td>2020-04-15</td><td>2020-04-30</td><td>0</td><td>Date</td></tr><tr><th>2</th><td>firm1</td><td>0.0141612</td><td>-0.0720706</td><td>0.00597869</td><td>0.171297</td><td>0</td><td>Float64</td></tr><tr><th>3</th><td>firm2</td><td>0.00802526</td><td>-0.0962117</td><td>-0.000305644</td><td>0.135201</td><td>0</td><td>Float64</td></tr></tbody></table></div>"
      ],
      "text/latex": [
       "\\begin{tabular}{r|ccccccc}\n",
       "\t& variable & mean & min & median & max & nmissing & eltype\\\\\n",
       "\t\\hline\n",
       "\t& Symbol & Union… & Any & Any & Any & Int64 & DataType\\\\\n",
       "\t\\hline\n",
       "\t1 & date &  & 2020-04-01 & 2020-04-15 & 2020-04-30 & 0 & Date \\\\\n",
       "\t2 & firm1 & 0.0141612 & -0.0720706 & 0.00597869 & 0.171297 & 0 & Float64 \\\\\n",
       "\t3 & firm2 & 0.00802526 & -0.0962117 & -0.000305644 & 0.135201 & 0 & Float64 \\\\\n",
       "\\end{tabular}\n"
      ],
      "text/plain": [
       "\u001b[1m3×7 DataFrame\u001b[0m\n",
       "\u001b[1m Row \u001b[0m│\u001b[1m variable \u001b[0m\u001b[1m mean       \u001b[0m\u001b[1m min        \u001b[0m\u001b[1m median       \u001b[0m\u001b[1m max        \u001b[0m\u001b[1m nmissing \u001b[0m\u001b[1m e\u001b[0m ⋯\n",
       "\u001b[1m     \u001b[0m│\u001b[90m Symbol   \u001b[0m\u001b[90m Union…     \u001b[0m\u001b[90m Any        \u001b[0m\u001b[90m Any          \u001b[0m\u001b[90m Any        \u001b[0m\u001b[90m Int64    \u001b[0m\u001b[90m D\u001b[0m ⋯\n",
       "─────┼──────────────────────────────────────────────────────────────────────────\n",
       "   1 │ date     \u001b[90m            \u001b[0m 2020-04-01  2020-04-15    2020-04-30         0  D ⋯\n",
       "   2 │ firm1     0.0141612   -0.0720706  0.00597869    0.171297           0  F\n",
       "   3 │ firm2     0.00802526  -0.0962117  -0.000305644  0.135201           0  F\n",
       "\u001b[36m                                                                1 column omitted\u001b[0m"
      ]
     },
     "metadata": {},
     "output_type": "display_data"
    }
   ],
   "source": [
    "#ch03_39\n",
    "describe(daily_stock_return_df)"
   ]
  },
  {
   "cell_type": "code",
   "execution_count": 28,
   "metadata": {},
   "outputs": [
    {
     "name": "stdout",
     "output_type": "stream",
     "text": [
      "0.014161168900422318\n",
      "0.008025261018862454\n"
     ]
    }
   ],
   "source": [
    "#ch03_40\n",
    "println(mean(daily_stock_return_df[!, \"firm1\"]))\n",
    "println(mean(daily_stock_return_df[!, \"firm2\"]))"
   ]
  },
  {
   "cell_type": "code",
   "execution_count": 31,
   "metadata": {},
   "outputs": [
    {
     "name": "stdout",
     "output_type": "stream",
     "text": [
      "0.05383960148069734\n",
      "0.2334892373498699\n"
     ]
    }
   ],
   "source": [
    "#ch03_41\n",
    "println(std(daily_stock_return_df[!, \"firm1\"]))\n",
    "println(cor(daily_stock_return_df[!, \"firm1\"], daily_stock_return_df[!, \"firm2\"]))\n"
   ]
  },
  {
   "cell_type": "code",
   "execution_count": 39,
   "metadata": {},
   "outputs": [
    {
     "data": {
      "text/plain": [
       "1-element Vector{Dates.Date}:\n",
       " 2020-04-01"
      ]
     },
     "metadata": {},
     "output_type": "display_data"
    }
   ],
   "source": [
    "#ch03_42\n",
    "mask = daily_stock_return_df[!, \"date\"] .== minimum(daily_stock_return_df[!, \"date\"])\n",
    "daily_stock_return_df[mask, \"date\"]"
   ]
  },
  {
   "cell_type": "code",
   "execution_count": 51,
   "metadata": {},
   "outputs": [
    {
     "name": "stdout",
     "output_type": "stream",
     "text": [
      "\u001b[1m12×3 DataFrame\u001b[0m\n",
      "\u001b[1m Row \u001b[0m│\u001b[1m date       \u001b[0m\u001b[1m firm1      \u001b[0m\u001b[1m firm2       \u001b[0m\n",
      "\u001b[1m     \u001b[0m│\u001b[90m Date       \u001b[0m\u001b[90m Float64    \u001b[0m\u001b[90m Float64     \u001b[0m\n",
      "─────┼─────────────────────────────────────\n",
      "   1 │ 2020-04-02  0.00597869  -0.00724885\n",
      "   2 │ 2020-04-03  0.0557866   -0.0173041\n",
      "   3 │ 2020-04-06  0.0419347    0.00216896\n",
      "   4 │ 2020-04-09  0.0817072    0.078843\n",
      "   5 │ 2020-04-10  0.034561     0.0215362\n",
      "   6 │ 2020-04-13  0.0326013    0.135201\n",
      "   7 │ 2020-04-15  0.00987981   0.0114271\n",
      "   8 │ 2020-04-17  0.171297     0.0394629\n",
      "   9 │ 2020-04-20  0.0463253    0.0372737\n",
      "  10 │ 2020-04-22  0.0515427   -0.0538182\n",
      "  11 │ 2020-04-27  0.0045375   -0.0196147\n",
      "  12 │ 2020-04-30  0.0448116   -0.01341\n"
     ]
    },
    {
     "ename": "MethodError",
     "evalue": "MethodError: no method matching isless(::Int64, ::Vector{Float64})\nClosest candidates are:\n  isless(!Matched::AbstractVector, ::AbstractVector) at /usr/local/julia/share/julia/base/abstractarray.jl:2550\n  isless(::Real, !Matched::AbstractFloat) at /usr/local/julia/share/julia/base/operators.jl:185\n  isless(::Real, !Matched::Real) at /usr/local/julia/share/julia/base/operators.jl:430\n  ...",
     "output_type": "error",
     "traceback": [
      "MethodError: no method matching isless(::Int64, ::Vector{Float64})\n",
      "Closest candidates are:\n",
      "  isless(!Matched::AbstractVector, ::AbstractVector) at /usr/local/julia/share/julia/base/abstractarray.jl:2550\n",
      "  isless(::Real, !Matched::AbstractFloat) at /usr/local/julia/share/julia/base/operators.jl:185\n",
      "  isless(::Real, !Matched::Real) at /usr/local/julia/share/julia/base/operators.jl:430\n",
      "  ...\n",
      "\n",
      "Stacktrace:\n",
      " [1] <(x::Int64, y::Vector{Float64})\n",
      "   @ Base ./operators.jl:352\n",
      " [2] >(x::Vector{Float64}, y::Int64)\n",
      "   @ Base ./operators.jl:378\n",
      " [3] top-level scope\n",
      "   @ /workspaces/empirical-accounting-and-finance-in-r/notebook/ch03/ch03_5.ipynb:5"
     ]
    }
   ],
   "source": [
    "#ch03_43\n",
    "mask = daily_stock_return_df[!, \"firm1\"] .> 0\n",
    "println(daily_stock_return_df[mask, :])\n",
    "\n",
    "println(filter(daily_stock_return_df[:, \"firm1\"]> 0, daily_stock_return_df))"
   ]
  },
  {
   "cell_type": "code",
   "execution_count": 58,
   "metadata": {},
   "outputs": [
    {
     "name": "stdout",
     "output_type": "stream",
     "text": [
      "\u001b[1m21×4 DataFrame\u001b[0m\n",
      "\u001b[1m Row \u001b[0m│\u001b[1m date       \u001b[0m\u001b[1m firm1   \u001b[0m\u001b[1m firm2        \u001b[0m\u001b[1m diffrence \u001b[0m\n",
      "\u001b[1m     \u001b[0m│\u001b[90m Date       \u001b[0m\u001b[90m Float64 \u001b[0m\u001b[90m Float64      \u001b[0m\u001b[90m Float64   \u001b[0m\n",
      "─────┼──────────────────────────────────────────────\n",
      "   1 │ 2020-04-01  3.96052   0.0769626      3.88356\n",
      "   2 │ 2020-04-02  4.00598  -0.00724885     4.01323\n",
      "   3 │ 2020-04-03  4.05579  -0.0173041      4.07309\n",
      "   4 │ 2020-04-06  4.04193   0.00216896     4.03977\n",
      "   5 │ 2020-04-07  3.97981   0.0755454      3.90426\n",
      "   6 │ 2020-04-08  3.99771  -0.0962117      4.09392\n",
      "   7 │ 2020-04-09  4.08171   0.078843       4.00286\n",
      "   8 │ 2020-04-10  4.03456   0.0215362      4.01302\n",
      "   9 │ 2020-04-13  4.0326    0.135201       3.8974\n",
      "  10 │ 2020-04-14  3.96234   0.0379793      3.92436\n",
      "  11 │ 2020-04-15  4.00988   0.0114271      3.99845\n",
      "  12 │ 2020-04-16  3.97297  -0.0534881      4.02646\n",
      "  13 │ 2020-04-17  4.1713    0.0394629      4.13183\n",
      "  14 │ 2020-04-20  4.04633   0.0372737      4.00905\n",
      "  15 │ 2020-04-21  3.98541  -0.000305644    3.98571\n",
      "  16 │ 2020-04-22  4.05154  -0.0538182      4.10536\n",
      "  17 │ 2020-04-23  3.97112  -0.0354842      4.00661\n",
      "  18 │ 2020-04-24  3.95862  -0.00411053     3.96273\n",
      "  19 │ 2020-04-27  4.00454  -0.0196147      4.02415\n",
      "  20 │ 2020-04-28  3.92793  -0.0468734      3.9748\n",
      "  21 │ 2020-04-30  4.04481  -0.01341        4.05822\n",
      "\u001b[1m21×4 DataFrame\u001b[0m\n",
      "\u001b[1m Row \u001b[0m│\u001b[1m date       \u001b[0m\u001b[1m firm1   \u001b[0m\u001b[1m firm2        \u001b[0m\u001b[1m diffrence \u001b[0m\n",
      "\u001b[1m     \u001b[0m│\u001b[90m Date       \u001b[0m\u001b[90m Float64 \u001b[0m\u001b[90m Float64      \u001b[0m\u001b[90m Float64   \u001b[0m\n",
      "─────┼──────────────────────────────────────────────\n",
      "   1 │ 2020-04-01  4.96052   0.0769626      3.88356\n",
      "   2 │ 2020-04-02  5.00598  -0.00724885     4.01323\n",
      "   3 │ 2020-04-03  5.05579  -0.0173041      4.07309\n",
      "   4 │ 2020-04-06  5.04193   0.00216896     4.03977\n",
      "   5 │ 2020-04-07  4.97981   0.0755454      3.90426\n",
      "   6 │ 2020-04-08  4.99771  -0.0962117      4.09392\n",
      "   7 │ 2020-04-09  5.08171   0.078843       4.00286\n",
      "   8 │ 2020-04-10  5.03456   0.0215362      4.01302\n",
      "   9 │ 2020-04-13  5.0326    0.135201       3.8974\n",
      "  10 │ 2020-04-14  4.96234   0.0379793      3.92436\n",
      "  11 │ 2020-04-15  5.00988   0.0114271      3.99845\n",
      "  12 │ 2020-04-16  4.97297  -0.0534881      4.02646\n",
      "  13 │ 2020-04-17  5.1713    0.0394629      4.13183\n",
      "  14 │ 2020-04-20  5.04633   0.0372737      4.00905\n",
      "  15 │ 2020-04-21  4.98541  -0.000305644    3.98571\n",
      "  16 │ 2020-04-22  5.05154  -0.0538182      4.10536\n",
      "  17 │ 2020-04-23  4.97112  -0.0354842      4.00661\n",
      "  18 │ 2020-04-24  4.95862  -0.00411053     3.96273\n",
      "  19 │ 2020-04-27  5.00454  -0.0196147      4.02415\n",
      "  20 │ 2020-04-28  4.92793  -0.0468734      3.9748\n",
      "  21 │ 2020-04-30  5.04481  -0.01341        4.05822\n"
     ]
    },
    {
     "name": "stdout",
     "output_type": "stream",
     "text": [
      "\u001b[1m21×4 DataFrame\u001b[0m\n",
      "\u001b[1m Row \u001b[0m│\u001b[1m date       \u001b[0m\u001b[1m firm1   \u001b[0m\u001b[1m firm2   \u001b[0m\u001b[1m diffrence \u001b[0m\n",
      "\u001b[1m     \u001b[0m│\u001b[90m Date       \u001b[0m\u001b[90m Float64 \u001b[0m\u001b[90m Float64 \u001b[0m\u001b[90m Float64   \u001b[0m\n",
      "─────┼─────────────────────────────────────────\n",
      "   1 │ 2020-04-01  4.96052      NaN    3.88356\n",
      "   2 │ 2020-04-02  5.00598      NaN    4.01323\n",
      "   3 │ 2020-04-03  5.05579      NaN    4.07309\n",
      "   4 │ 2020-04-06  5.04193      NaN    4.03977\n",
      "   5 │ 2020-04-07  4.97981      NaN    3.90426\n",
      "   6 │ 2020-04-08  4.99771      NaN    4.09392\n",
      "   7 │ 2020-04-09  5.08171      NaN    4.00286\n",
      "   8 │ 2020-04-10  5.03456      NaN    4.01302\n",
      "   9 │ 2020-04-13  5.0326       NaN    3.8974\n",
      "  10 │ 2020-04-14  4.96234      NaN    3.92436\n",
      "  11 │ 2020-04-15  5.00988      NaN    3.99845\n",
      "  12 │ 2020-04-16  4.97297      NaN    4.02646\n",
      "  13 │ 2020-04-17  5.1713       NaN    4.13183\n",
      "  14 │ 2020-04-20  5.04633      NaN    4.00905\n",
      "  15 │ 2020-04-21  4.98541      NaN    3.98571\n",
      "  16 │ 2020-04-22  5.05154      NaN    4.10536\n",
      "  17 │ 2020-04-23  4.97112      NaN    4.00661\n",
      "  18 │ 2020-04-24  4.95862      NaN    3.96273\n",
      "  19 │ 2020-04-27  5.00454      NaN    4.02415\n",
      "  20 │ 2020-04-28  4.92793      NaN    3.9748\n",
      "  21 │ 2020-04-30  5.04481      NaN    4.05822\n"
     ]
    }
   ],
   "source": [
    "#ch03_44\n",
    "daily_stock_return_df[:, \"diffrence\"] = daily_stock_return_df[:, \"firm1\"] - daily_stock_return_df[:, \"firm2\"]\n",
    "println(daily_stock_return_df)\n",
    "daily_stock_return_df[:, \"firm1\"] = 1 .+ daily_stock_return_df[:, \"firm1\"]\n",
    "println(daily_stock_return_df)\n",
    "daily_stock_return_df[:, \"firm2\"] .= NaN\n",
    "println(daily_stock_return_df)"
   ]
  },
  {
   "cell_type": "code",
   "execution_count": 60,
   "metadata": {},
   "outputs": [
    {
     "data": {
      "text/plain": [
       "\"./ch03_output.csv\""
      ]
     },
     "metadata": {},
     "output_type": "display_data"
    }
   ],
   "source": [
    "#ch03_45\n",
    "daily_stock_return_df |> CSV.write(\"./ch03_output.csv\")"
   ]
  },
  {
   "cell_type": "code",
   "execution_count": null,
   "metadata": {},
   "outputs": [],
   "source": []
  }
 ],
 "metadata": {
  "kernelspec": {
   "display_name": "Julia 1.7.3",
   "language": "julia",
   "name": "julia-1.7"
  },
  "language_info": {
   "file_extension": ".jl",
   "mimetype": "application/julia",
   "name": "julia",
   "version": "1.7.3"
  },
  "orig_nbformat": 4
 },
 "nbformat": 4,
 "nbformat_minor": 2
}
