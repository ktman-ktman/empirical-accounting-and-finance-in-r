{
 "cells": [
  {
   "cell_type": "markdown",
   "metadata": {},
   "source": [
    "# 3.3 独自関数の書き方"
   ]
  },
  {
   "cell_type": "code",
   "execution_count": 2,
   "metadata": {},
   "outputs": [
    {
     "name": "stdout",
     "output_type": "stream",
     "text": [
      "90.9090909090909\n"
     ]
    }
   ],
   "source": [
    "#ch03_20\n",
    "function calculate_pv(r)\n",
    "    pv = 100 / (1 + r)\n",
    "    return pv\n",
    "end\n",
    "println(calculate_pv(0.1))"
   ]
  },
  {
   "cell_type": "code",
   "execution_count": 3,
   "metadata": {},
   "outputs": [
    {
     "name": "stdout",
     "output_type": "stream",
     "text": [
      "90.9090909090909\n"
     ]
    }
   ],
   "source": [
    "#ch03_21\n",
    "calculate_pv(r) = 100 / (1 + r)\n",
    "println(calculate_pv(0.1))"
   ]
  },
  {
   "cell_type": "code",
   "execution_count": 4,
   "metadata": {},
   "outputs": [
    {
     "name": "stdout",
     "output_type": "stream",
     "text": [
      "[90.9090909090909, 83.33333333333334]\n",
      "[90.9090909090909, 100.0]\n"
     ]
    }
   ],
   "source": [
    "#ch03_22\n",
    "function calculate_pv(r1, r2 = 0)\n",
    "   pv1 = 100 / (1 + r1)\n",
    "   pv2 = 100 / (1 + r2)\n",
    "   return [\n",
    "    pv1\n",
    "    pv2\n",
    "   ] \n",
    "end\n",
    "println(calculate_pv(0.1, 0.2))\n",
    "println(calculate_pv(0.1))"
   ]
  },
  {
   "cell_type": "code",
   "execution_count": 5,
   "metadata": {},
   "outputs": [
    {
     "name": "stdout",
     "output_type": "stream",
     "text": [
      "22.764838467317787\n"
     ]
    }
   ],
   "source": [
    "#ch03_23\n",
    "function calculate_pv(r, cf)\n",
    "    pv = 0\n",
    "    for (i, cf_i) in enumerate(cf)\n",
    "        pv += cf_i / (1 + r)^(i - 1)\n",
    "    end\n",
    "    return pv\n",
    "end\n",
    "println(calculate_pv(0.1, [-100, 40, 50, 60]))"
   ]
  },
  {
   "cell_type": "code",
   "execution_count": 6,
   "metadata": {},
   "outputs": [
    {
     "name": "stdout",
     "output_type": "stream",
     "text": [
      "90.9090909090909\n"
     ]
    }
   ],
   "source": [
    "#ch03_24\n",
    "calculate_pv(r) = 100 / (1 + r)\n",
    "println(calculate_pv(0.1))"
   ]
  },
  {
   "cell_type": "code",
   "execution_count": 9,
   "metadata": {},
   "outputs": [
    {
     "name": "stdout",
     "output_type": "stream",
     "text": [
      "90.9090909090909\n",
      "90.9090909090909\n",
      "90.9090909090909\n",
      "90.9090909090909\n",
      "90.9090909090909\n",
      "90.9090909090909\n",
      "90.9090909090909\n",
      "90.9090909090909\n",
      "90.9090909090909\n",
      "90.9090909090909\n",
      "90.9090909090909\n",
      "90.9090909090909\n",
      "90.09009009009009\n",
      "89.28571428571428\n",
      "88.49557522123895\n",
      "87.71929824561403\n",
      "86.95652173913044\n",
      "86.20689655172413\n",
      "85.47008547008548\n",
      "84.7457627118644\n",
      "84.03361344537815\n",
      "83.33333333333331\n"
     ]
    }
   ],
   "source": [
    "#ch03_25\n",
    "function calculate_pv(r)\n",
    "    pv = 100 / (1 + r)\n",
    "    r += 0.01\n",
    "    return pv\n",
    "end\n",
    "r = 0.1\n",
    "for i in 1:11\n",
    "    println(calculate_pv(r))\n",
    "end\n",
    "\n",
    "function calculate_pv(r)\n",
    "    pv = 100 / (1 + r)\n",
    "    global r += 0.01\n",
    "    return pv\n",
    "end\n",
    "r = 0.1\n",
    "for i in 1:11\n",
    "    println(calculate_pv(r))\n",
    "end"
   ]
  },
  {
   "cell_type": "code",
   "execution_count": null,
   "metadata": {},
   "outputs": [],
   "source": []
  }
 ],
 "metadata": {
  "kernelspec": {
   "display_name": "Julia 1.7.3",
   "language": "julia",
   "name": "julia-1.7"
  },
  "language_info": {
   "file_extension": ".jl",
   "mimetype": "application/julia",
   "name": "julia",
   "version": "1.7.3"
  },
  "orig_nbformat": 4
 },
 "nbformat": 4,
 "nbformat_minor": 2
}
