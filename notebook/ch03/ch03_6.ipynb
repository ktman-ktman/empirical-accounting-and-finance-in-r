{
 "cells": [
  {
   "cell_type": "markdown",
   "metadata": {},
   "source": [
    "# 3.6 ファクター型と日付型"
   ]
  },
  {
   "cell_type": "code",
   "execution_count": 13,
   "metadata": {},
   "outputs": [],
   "source": [
    "using DataFrames, CategoricalArrays, Dates"
   ]
  },
  {
   "cell_type": "code",
   "execution_count": 6,
   "metadata": {},
   "outputs": [
    {
     "data": {
      "text/html": [
       "<div class=\"data-frame\"><p>3 rows × 3 columns</p><table class=\"data-frame\"><thead><tr><th></th><th>firm_id</th><th>name</th><th>industry</th></tr><tr><th></th><th title=\"Int64\">Int64</th><th title=\"String\">String</th><th title=\"String\">String</th></tr></thead><tbody><tr><th>1</th><td>1</td><td>Firm A</td><td>Machinary</td></tr><tr><th>2</th><td>2</td><td>Firm B</td><td>Chemicals</td></tr><tr><th>3</th><td>3</td><td>Firm C</td><td>Machinary</td></tr></tbody></table></div>"
      ],
      "text/latex": [
       "\\begin{tabular}{r|ccc}\n",
       "\t& firm\\_id & name & industry\\\\\n",
       "\t\\hline\n",
       "\t& Int64 & String & String\\\\\n",
       "\t\\hline\n",
       "\t1 & 1 & Firm A & Machinary \\\\\n",
       "\t2 & 2 & Firm B & Chemicals \\\\\n",
       "\t3 & 3 & Firm C & Machinary \\\\\n",
       "\\end{tabular}\n"
      ],
      "text/plain": [
       "\u001b[1m3×3 DataFrame\u001b[0m\n",
       "\u001b[1m Row \u001b[0m│\u001b[1m firm_id \u001b[0m\u001b[1m name   \u001b[0m\u001b[1m industry  \u001b[0m\n",
       "\u001b[1m     \u001b[0m│\u001b[90m Int64   \u001b[0m\u001b[90m String \u001b[0m\u001b[90m String    \u001b[0m\n",
       "─────┼────────────────────────────\n",
       "   1 │       1  Firm A  Machinary\n",
       "   2 │       2  Firm B  Chemicals\n",
       "   3 │       3  Firm C  Machinary"
      ]
     },
     "metadata": {},
     "output_type": "display_data"
    }
   ],
   "source": [
    "#ch03_46\n",
    "firm_id = [1, 2, 3]\n",
    "name = [\"Firm A\", \"Firm B\", \"Firm C\"]\n",
    "industry = [\"Machinary\", \"Chemicals\", \"Machinary\"]\n",
    "\n",
    "firm_data_df = DataFrame(\n",
    "    firm_id = firm_id,\n",
    "    name = name,\n",
    "    industry = industry,\n",
    ")"
   ]
  },
  {
   "cell_type": "code",
   "execution_count": 9,
   "metadata": {},
   "outputs": [
    {
     "data": {
      "text/html": [
       "<div class=\"data-frame\"><p>3 rows × 3 columns</p><table class=\"data-frame\"><thead><tr><th></th><th>firm_id</th><th>name</th><th>industry</th></tr><tr><th></th><th title=\"Int64\">Int64</th><th title=\"String\">String</th><th title=\"String\">String</th></tr></thead><tbody><tr><th>1</th><td>1</td><td>Firm A</td><td>Machinary</td></tr><tr><th>2</th><td>2</td><td>Firm B</td><td>Chemicals</td></tr><tr><th>3</th><td>3</td><td>Firm C</td><td>Machinary</td></tr></tbody></table></div>"
      ],
      "text/latex": [
       "\\begin{tabular}{r|ccc}\n",
       "\t& firm\\_id & name & industry\\\\\n",
       "\t\\hline\n",
       "\t& Int64 & String & String\\\\\n",
       "\t\\hline\n",
       "\t1 & 1 & Firm A & Machinary \\\\\n",
       "\t2 & 2 & Firm B & Chemicals \\\\\n",
       "\t3 & 3 & Firm C & Machinary \\\\\n",
       "\\end{tabular}\n"
      ],
      "text/plain": [
       "\u001b[1m3×3 DataFrame\u001b[0m\n",
       "\u001b[1m Row \u001b[0m│\u001b[1m firm_id \u001b[0m\u001b[1m name   \u001b[0m\u001b[1m industry  \u001b[0m\n",
       "\u001b[1m     \u001b[0m│\u001b[90m Int64   \u001b[0m\u001b[90m String \u001b[0m\u001b[90m String    \u001b[0m\n",
       "─────┼────────────────────────────\n",
       "   1 │       1  Firm A  Machinary\n",
       "   2 │       2  Firm B  Chemicals\n",
       "   3 │       3  Firm C  Machinary"
      ]
     },
     "metadata": {},
     "output_type": "display_data"
    }
   ],
   "source": [
    "#ch03_47\n",
    "firm_data_df[:, \"industry\"] = categorical(industry)\n",
    "firm_data_df"
   ]
  },
  {
   "cell_type": "code",
   "execution_count": 12,
   "metadata": {},
   "outputs": [
    {
     "data": {
      "text/html": [
       "<div class=\"data-frame\"><p>3 rows × 2 columns</p><table class=\"data-frame\"><thead><tr><th></th><th>date</th><th>stock_return</th></tr><tr><th></th><th title=\"String\">String</th><th title=\"Float64\">Float64</th></tr></thead><tbody><tr><th>1</th><td>2021/4/1</td><td>0.02</td></tr><tr><th>2</th><td>2021/4/2</td><td>-0.01</td></tr><tr><th>3</th><td>2021/4/5</td><td>-0.02</td></tr></tbody></table></div>"
      ],
      "text/latex": [
       "\\begin{tabular}{r|cc}\n",
       "\t& date & stock\\_return\\\\\n",
       "\t\\hline\n",
       "\t& String & Float64\\\\\n",
       "\t\\hline\n",
       "\t1 & 2021/4/1 & 0.02 \\\\\n",
       "\t2 & 2021/4/2 & -0.01 \\\\\n",
       "\t3 & 2021/4/5 & -0.02 \\\\\n",
       "\\end{tabular}\n"
      ],
      "text/plain": [
       "\u001b[1m3×2 DataFrame\u001b[0m\n",
       "\u001b[1m Row \u001b[0m│\u001b[1m date     \u001b[0m\u001b[1m stock_return \u001b[0m\n",
       "\u001b[1m     \u001b[0m│\u001b[90m String   \u001b[0m\u001b[90m Float64      \u001b[0m\n",
       "─────┼────────────────────────\n",
       "   1 │ 2021/4/1          0.02\n",
       "   2 │ 2021/4/2         -0.01\n",
       "   3 │ 2021/4/5         -0.02"
      ]
     },
     "metadata": {},
     "output_type": "display_data"
    }
   ],
   "source": [
    "#ch03_48\n",
    "date_ = [\"2021/4/1\", \"2021/4/2\", \"2021/4/5\"]\n",
    "rtn_ = [0.02, -0.01, -0.02]\n",
    "stock_return_df = DataFrame(\n",
    "    date = date_,\n",
    "    stock_return = rtn_,\n",
    ")"
   ]
  },
  {
   "cell_type": "code",
   "execution_count": 22,
   "metadata": {},
   "outputs": [
    {
     "data": {
      "text/html": [
       "<div class=\"data-frame\"><p>3 rows × 2 columns</p><table class=\"data-frame\"><thead><tr><th></th><th>date</th><th>stock_return</th></tr><tr><th></th><th title=\"DateTime\">DateTime</th><th title=\"Float64\">Float64</th></tr></thead><tbody><tr><th>1</th><td>2021-01-01T00:04:00</td><td>0.02</td></tr><tr><th>2</th><td>2021-01-02T00:04:00</td><td>-0.01</td></tr><tr><th>3</th><td>2021-01-05T00:04:00</td><td>-0.02</td></tr></tbody></table></div>"
      ],
      "text/latex": [
       "\\begin{tabular}{r|cc}\n",
       "\t& date & stock\\_return\\\\\n",
       "\t\\hline\n",
       "\t& DateTime & Float64\\\\\n",
       "\t\\hline\n",
       "\t1 & 2021-01-01T00:04:00 & 0.02 \\\\\n",
       "\t2 & 2021-01-02T00:04:00 & -0.01 \\\\\n",
       "\t3 & 2021-01-05T00:04:00 & -0.02 \\\\\n",
       "\\end{tabular}\n"
      ],
      "text/plain": [
       "\u001b[1m3×2 DataFrame\u001b[0m\n",
       "\u001b[1m Row \u001b[0m│\u001b[1m date                \u001b[0m\u001b[1m stock_return \u001b[0m\n",
       "\u001b[1m     \u001b[0m│\u001b[90m DateTime            \u001b[0m\u001b[90m Float64      \u001b[0m\n",
       "─────┼───────────────────────────────────\n",
       "   1 │ 2021-01-01T00:04:00          0.02\n",
       "   2 │ 2021-01-02T00:04:00         -0.01\n",
       "   3 │ 2021-01-05T00:04:00         -0.02"
      ]
     },
     "metadata": {},
     "output_type": "display_data"
    }
   ],
   "source": [
    "#ch03_49\n",
    "stock_return_df[!, :\"date\"] = [DateTime(x, \"yyyy/MM/dd\") for x in stock_return_df[:, \"date\"]]\n",
    "stock_return_df"
   ]
  },
  {
   "cell_type": "code",
   "execution_count": 24,
   "metadata": {},
   "outputs": [
    {
     "data": {
      "text/html": [
       "<div class=\"data-frame\"><p>3 rows × 2 columns</p><table class=\"data-frame\"><thead><tr><th></th><th>date</th><th>stock_return</th></tr><tr><th></th><th title=\"DateTime\">DateTime</th><th title=\"Float64\">Float64</th></tr></thead><tbody><tr><th>1</th><td>2021-01-02T00:04:00</td><td>0.02</td></tr><tr><th>2</th><td>2021-01-03T00:04:00</td><td>-0.01</td></tr><tr><th>3</th><td>2021-01-06T00:04:00</td><td>-0.02</td></tr></tbody></table></div>"
      ],
      "text/latex": [
       "\\begin{tabular}{r|cc}\n",
       "\t& date & stock\\_return\\\\\n",
       "\t\\hline\n",
       "\t& DateTime & Float64\\\\\n",
       "\t\\hline\n",
       "\t1 & 2021-01-02T00:04:00 & 0.02 \\\\\n",
       "\t2 & 2021-01-03T00:04:00 & -0.01 \\\\\n",
       "\t3 & 2021-01-06T00:04:00 & -0.02 \\\\\n",
       "\\end{tabular}\n"
      ],
      "text/plain": [
       "\u001b[1m3×2 DataFrame\u001b[0m\n",
       "\u001b[1m Row \u001b[0m│\u001b[1m date                \u001b[0m\u001b[1m stock_return \u001b[0m\n",
       "\u001b[1m     \u001b[0m│\u001b[90m DateTime            \u001b[0m\u001b[90m Float64      \u001b[0m\n",
       "─────┼───────────────────────────────────\n",
       "   1 │ 2021-01-02T00:04:00          0.02\n",
       "   2 │ 2021-01-03T00:04:00         -0.01\n",
       "   3 │ 2021-01-06T00:04:00         -0.02"
      ]
     },
     "metadata": {},
     "output_type": "display_data"
    }
   ],
   "source": [
    "#ch03_50\n",
    "stock_return_df[!, :\"date\"] = [x + Dates.Day(1) for x in stock_return_df[:, \"date\"]]\n",
    "stock_return_df\n"
   ]
  },
  {
   "cell_type": "code",
   "execution_count": null,
   "metadata": {},
   "outputs": [],
   "source": []
  }
 ],
 "metadata": {
  "kernelspec": {
   "display_name": "Julia 1.7.3",
   "language": "julia",
   "name": "julia-1.7"
  },
  "language_info": {
   "file_extension": ".jl",
   "mimetype": "application/julia",
   "name": "julia",
   "version": "1.7.3"
  },
  "orig_nbformat": 4
 },
 "nbformat": 4,
 "nbformat_minor": 2
}
