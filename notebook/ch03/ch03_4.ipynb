{
 "cells": [
  {
   "cell_type": "markdown",
   "metadata": {},
   "source": [
    "# 3.4 演習IRRの計算"
   ]
  },
  {
   "cell_type": "code",
   "execution_count": 11,
   "metadata": {},
   "outputs": [
    {
     "name": "stdout",
     "output_type": "stream",
     "text": [
      "ComplexF64[-0.40823892709214504 - 0.5714614654145571im, -0.40823892709214504 + 0.5714614654145571im, 1.2164778541842907 + 0.0im]\n",
      "0.21647785418429066"
     ]
    }
   ],
   "source": [
    "#ch03_26\n",
    "using Polynomials\n",
    "p = Polynomial([60, 50, 40, -100])\n",
    "println(roots(p))\n",
    "\n",
    "print(roots(p)[3].re - 1)"
   ]
  },
  {
   "cell_type": "code",
   "execution_count": 13,
   "metadata": {},
   "outputs": [
    {
     "data": {
      "text/plain": [
       "3-element Vector{Float64}:\n",
       " -0.5714614654145571\n",
       "  0.5714614654145571\n",
       "  0.0"
      ]
     },
     "metadata": {},
     "output_type": "display_data"
    }
   ],
   "source": [
    "#ch03_28\n",
    "[x.im for x in roots(p)]"
   ]
  },
  {
   "cell_type": "code",
   "execution_count": 16,
   "metadata": {},
   "outputs": [
    {
     "data": {
      "text/plain": [
       "3-element Vector{Bool}:\n",
       " 0\n",
       " 0\n",
       " 1"
      ]
     },
     "metadata": {},
     "output_type": "display_data"
    }
   ],
   "source": [
    "#ch03_29\n",
    "[x.im == 0 for x in roots(p)]"
   ]
  },
  {
   "cell_type": "code",
   "execution_count": 18,
   "metadata": {},
   "outputs": [
    {
     "data": {
      "text/plain": [
       "3-element Vector{Bool}:\n",
       " 1\n",
       " 1\n",
       " 1"
      ]
     },
     "metadata": {},
     "output_type": "display_data"
    }
   ],
   "source": [
    "#ch03_30\n",
    "eps = 1e0\n",
    "[abs(x.im) <= eps for x in roots(p)]"
   ]
  },
  {
   "cell_type": "code",
   "execution_count": 22,
   "metadata": {},
   "outputs": [
    {
     "data": {
      "text/plain": [
       "1-element Vector{Float64}:\n",
       " 1.2164778541842907"
      ]
     },
     "metadata": {},
     "output_type": "display_data"
    }
   ],
   "source": [
    "#ch03_31\n",
    "is_real = [abs(x.im) <= 1e-10 for x in roots(p)]\n",
    "[x.re for x in roots(p)[is_real]]"
   ]
  },
  {
   "cell_type": "code",
   "execution_count": 28,
   "metadata": {},
   "outputs": [
    {
     "name": "stdout",
     "output_type": "stream",
     "text": [
      "[0.21647785418429066]\n"
     ]
    }
   ],
   "source": [
    "#ch03_32\n",
    "function calculate_irr(cf, eps=1e-10)\n",
    "    root = roots(Polynomial(reverse(cf)))\n",
    "    is_real = [abs(x.im) <= eps for x in root]\n",
    "    return [x.re - 1 for x in root[is_real]]\n",
    "end\n",
    "println(calculate_irr([-100, 40, 50, 60]))"
   ]
  },
  {
   "cell_type": "code",
   "execution_count": 34,
   "metadata": {},
   "outputs": [
    {
     "name": "stdout",
     "output_type": "stream",
     "text": [
      "[-1.0954451150103321, 1.0, 1.0954451150103315]\n"
     ]
    },
    {
     "ename": "ErrorException",
     "evalue": "type Float64 has no field im",
     "output_type": "error",
     "traceback": [
      "type Float64 has no field im\n",
      "\n",
      "Stacktrace:\n",
      " [1] getproperty\n",
      "   @ ./Base.jl:42 [inlined]\n",
      " [2] (::var\"#49#51\"{Float64})(x::Float64)\n",
      "   @ Main ./none:0\n",
      " [3] iterate\n",
      "   @ ./generator.jl:47 [inlined]\n",
      " [4] collect\n",
      "   @ ./array.jl:724 [inlined]\n",
      " [5] calculate_irr(cf::Vector{Int64}, eps::Float64)\n",
      "   @ Main /workspaces/empirical-accounting-and-finance-in-r/notebook/ch03/ch03_4.ipynb:5\n",
      " [6] calculate_irr(cf::Vector{Int64})\n",
      "   @ Main /workspaces/empirical-accounting-and-finance-in-r/notebook/ch03/ch03_4.ipynb:3\n",
      " [7] top-level scope\n",
      "   @ /workspaces/empirical-accounting-and-finance-in-r/notebook/ch03/ch03_4.ipynb:12"
     ]
    }
   ],
   "source": [
    "#ch03_34\n",
    "function calculate_irr(cf, eps=1e-10)\n",
    "    root = roots(Polynomial(reverse(cf)))\n",
    "    println(root)\n",
    "    is_real = [abs(x.im) <= eps for x in root]\n",
    "    if sum(is_real) == 0\n",
    "        println(\"error!\")\n",
    "        return ErrorException\n",
    "    end\n",
    "    return [x.re - 1 for x in root[is_real]]\n",
    "end\n",
    "println(calculate_irr([-100, 100, 120, -120]))\n"
   ]
  },
  {
   "cell_type": "code",
   "execution_count": null,
   "metadata": {},
   "outputs": [],
   "source": []
  }
 ],
 "metadata": {
  "kernelspec": {
   "display_name": "Julia 1.7.3",
   "language": "julia",
   "name": "julia-1.7"
  },
  "language_info": {
   "file_extension": ".jl",
   "mimetype": "application/julia",
   "name": "julia",
   "version": "1.7.3"
  },
  "orig_nbformat": 4
 },
 "nbformat": 4,
 "nbformat_minor": 2
}
