{
 "cells": [
  {
   "cell_type": "markdown",
   "metadata": {},
   "source": [
    "# 第6章　ファクターモデルの導入"
   ]
  },
  {
   "cell_type": "code",
   "execution_count": null,
   "metadata": {},
   "outputs": [],
   "source": [
    "using CSV, DataFrames, DataFramesMeta, ShiftedArrays, Statistics, Gadfly, CategoricalArrays"
   ]
  },
  {
   "cell_type": "code",
   "execution_count": null,
   "metadata": {},
   "outputs": [],
   "source": [
    "#ch06_01\n",
    "monthly_data_df = DataFrame(CSV.File(\"../../data/ch05_output1.csv\", missingstring=[\"NA\"]))\n",
    "annual_data_df = DataFrame(CSV.File(\"../../data/ch05_output2.csv\", missingstring=[\"NA\"]))"
   ]
  },
  {
   "cell_type": "code",
   "execution_count": null,
   "metadata": {},
   "outputs": [],
   "source": [
    "#ch06_02\n",
    "annual_data_df = @chain annual_data_df begin\n",
    "    @orderby(:firm_ID, :year)\n",
    "    groupby(:firm_ID)\n",
    "    @transform(:lagged_ME = lag(:ME))\n",
    "end"
   ]
  },
  {
   "cell_type": "code",
   "execution_count": null,
   "metadata": {},
   "outputs": [],
   "source": [
    "#ch06_03\n",
    "@chain annual_data_df begin\n",
    "    groupby(:year)\n",
    "    @transform(:w_M = :lagged_ME ./ sum(skipmissing(:lagged_ME)))\n",
    "    first(10)\n",
    "    println\n",
    "end"
   ]
  },
  {
   "cell_type": "code",
   "execution_count": null,
   "metadata": {},
   "outputs": [],
   "source": [
    "#ch06_04\n",
    "mask1 = annual_data_df.year .>= 2016\n",
    "mask2 = ismissing(annual_data_df.w_M)\n",
    "mask = mask1 .&& mask2\n",
    "#annual_data_df[mask, :w_M] .= 0\n",
    "annual_data_df[mask, :]"
   ]
  },
  {
   "cell_type": "code",
   "execution_count": null,
   "metadata": {},
   "outputs": [],
   "source": [
    "#ch06_05\n",
    "@chain annual_data_df begin\n",
    "    groupby(:year)\n",
    "    @combine(:weight_sum = sum(:w_M))\n",
    "end"
   ]
  },
  {
   "cell_type": "code",
   "execution_count": null,
   "metadata": {},
   "outputs": [],
   "source": [
    "#ch06_06\n",
    "monthly_data_df = @chain annual_data_df begin\n",
    "    @select(:year, :firm_ID, :w_M)\n",
    "    outerjoin(monthly_data_df, on = [:year, :firm_ID])\n",
    "end"
   ]
  },
  {
   "cell_type": "code",
   "execution_count": null,
   "metadata": {},
   "outputs": [],
   "source": [
    "#ch06_06\n",
    "factor_data_df = @chain monthly_data_df begin\n",
    "    @rtransform(:weight_return = :w_M * :R)\n",
    "    @rsubset(:month_ID >= 13)\n",
    "    groupby(:month_ID)\n",
    "    @combine begin\n",
    "        :R_F = mean(:R_F)\n",
    "        :R_M = sum(skipmissing(:weight_return))\n",
    "    end\n",
    "    @rtransform(:R_Me = :R_M - :R_F)\n",
    "end"
   ]
  },
  {
   "cell_type": "code",
   "execution_count": null,
   "metadata": {},
   "outputs": [],
   "source": [
    "@chain factor_data_df begin\n",
    "    plot(x = :R_Me, Geom.histogram)\n",
    "end"
   ]
  },
  {
   "cell_type": "code",
   "execution_count": null,
   "metadata": {},
   "outputs": [],
   "source": [
    "#ch06_09\n",
    "@chain factor_data_df begin\n",
    "    @rtransform(:gross_R_M = 1 + :R_M)\n",
    "    @transform(:cumulative_gross_R_M = cumprod(:gross_R_M))\n",
    "    plot(x = :month_ID, y = :cumulative_gross_R_M, Geom.line)\n",
    "end"
   ]
  },
  {
   "cell_type": "code",
   "execution_count": null,
   "metadata": {},
   "outputs": [],
   "source": [
    "#ch06_10\n",
    "temp_df = @chain factor_data_df begin\n",
    "    @rtransform(:gross_R_M = 1 + :R_M)\n",
    "    @transform(:cumulative_gross_R_M = cumprod(:gross_R_M))\n",
    "    @select(:month_ID, :cumulative_gross_R_M)\n",
    "    push!([12, 1])\n",
    "    @orderby(:month_ID)\n",
    "    plot(x = :month_ID, y = :cumulative_gross_R_M, Geom.line)\n",
    "end"
   ]
  },
  {
   "cell_type": "code",
   "execution_count": null,
   "metadata": {},
   "outputs": [],
   "source": [
    "#ch06_11\n",
    "annual_data_df = @chain annual_data_df begin\n",
    "    groupby(:year)\n",
    "    @transform(:ME_rank10 = cut(:lagged_ME, 10, labels=1:10))\n",
    "end"
   ]
  },
  {
   "cell_type": "code",
   "execution_count": null,
   "metadata": {},
   "outputs": [],
   "source": []
  }
 ],
 "metadata": {
  "kernelspec": {
   "display_name": "Julia 1.7.3",
   "language": "julia",
   "name": "julia-1.7"
  },
  "language_info": {
   "file_extension": ".jl",
   "mimetype": "application/julia",
   "name": "julia",
   "version": "1.7.3"
  },
  "orig_nbformat": 4
 },
 "nbformat": 4,
 "nbformat_minor": 2
}
