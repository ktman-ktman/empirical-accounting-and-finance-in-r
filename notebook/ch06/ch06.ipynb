{
 "cells": [
  {
   "cell_type": "markdown",
   "metadata": {},
   "source": [
    "# 第6章　ファクターモデルの導入"
   ]
  },
  {
   "cell_type": "code",
   "execution_count": 1,
   "metadata": {},
   "outputs": [],
   "source": [
    "using CSV, DataFrames, DataFramesMeta, ShiftedArrays, Statistics, Gadfly, CategoricalArrays, GLM"
   ]
  },
  {
   "cell_type": "code",
   "execution_count": 2,
   "metadata": {},
   "outputs": [
    {
     "data": {
      "text/html": [
       "<div class=\"data-frame\"><p>7,920 rows × 18 columns (omitted printing of 10 columns)</p><table class=\"data-frame\"><thead><tr><th></th><th>firm_ID</th><th>year</th><th>R</th><th>Re</th><th>R_F</th><th>industry_ID</th><th>sales</th><th>OX</th></tr><tr><th></th><th title=\"Int64\">Int64</th><th title=\"Int64\">Int64</th><th title=\"Union{Missing, Float64}\">Float64?</th><th title=\"Union{Missing, Float64}\">Float64?</th><th title=\"Float64\">Float64</th><th title=\"Union{Missing, Int64}\">Int64?</th><th title=\"Union{Missing, Float64}\">Float64?</th><th title=\"Union{Missing, Float64}\">Float64?</th></tr></thead><tbody><tr><th>1</th><td>1</td><td>2015</td><td><em>missing</em></td><td><em>missing</em></td><td>0.00743209</td><td><em>missing</em></td><td><em>missing</em></td><td><em>missing</em></td></tr><tr><th>2</th><td>1</td><td>2016</td><td>0.997273</td><td>0.996708</td><td>0.000564989</td><td>1</td><td>5948.96</td><td>564.14</td></tr><tr><th>3</th><td>1</td><td>2017</td><td>0.687864</td><td>0.687815</td><td>4.8848e-5</td><td>1</td><td>6505.06</td><td>691.18</td></tr><tr><th>4</th><td>1</td><td>2018</td><td>-0.213613</td><td>-0.219399</td><td>0.00578611</td><td>1</td><td>6846.38</td><td>751.29</td></tr><tr><th>5</th><td>1</td><td>2019</td><td>0.646836</td><td>0.647606</td><td>-0.000769931</td><td>1</td><td>7572.24</td><td>958.53</td></tr><tr><th>6</th><td>1</td><td>2020</td><td>-0.284303</td><td>-0.284683</td><td>0.000379944</td><td>1</td><td>7537.63</td><td>778.37</td></tr><tr><th>7</th><td>2</td><td>2015</td><td><em>missing</em></td><td><em>missing</em></td><td>0.00578611</td><td>1</td><td>3505.75</td><td>45.82</td></tr><tr><th>8</th><td>2</td><td>2016</td><td>0.375229</td><td>0.375998</td><td>-0.000769931</td><td>1</td><td>3491.27</td><td>51.25</td></tr><tr><th>9</th><td>2</td><td>2017</td><td>0.640732</td><td>0.640352</td><td>0.000379944</td><td>1</td><td>3945.66</td><td>83.43</td></tr><tr><th>10</th><td>2</td><td>2018</td><td>-0.219689</td><td>-0.223397</td><td>0.003708</td><td>1</td><td>4139.33</td><td>93.4</td></tr><tr><th>11</th><td>2</td><td>2019</td><td>0.408186</td><td>0.400754</td><td>0.00743209</td><td>1</td><td>4416.98</td><td>99.23</td></tr><tr><th>12</th><td>2</td><td>2020</td><td>-0.475468</td><td>-0.476033</td><td>0.000564989</td><td>1</td><td>4606.51</td><td>97.44</td></tr><tr><th>13</th><td>3</td><td>2015</td><td><em>missing</em></td><td><em>missing</em></td><td>0.003708</td><td>1</td><td>4.4079e5</td><td>-8246.19</td></tr><tr><th>14</th><td>3</td><td>2016</td><td>0.375264</td><td>0.367832</td><td>0.00743209</td><td>1</td><td>2.64725e5</td><td>3152.22</td></tr><tr><th>15</th><td>3</td><td>2017</td><td>0.38682</td><td>0.386255</td><td>0.000564989</td><td>1</td><td>2.60379e5</td><td>5403.41</td></tr><tr><th>16</th><td>3</td><td>2018</td><td>-0.174926</td><td>-0.174975</td><td>4.8848e-5</td><td>1</td><td>2.5125e5</td><td>7001.84</td></tr><tr><th>17</th><td>3</td><td>2019</td><td>0.658687</td><td>0.652901</td><td>0.00578611</td><td>1</td><td>2.54891e5</td><td>9116.46</td></tr><tr><th>18</th><td>3</td><td>2020</td><td>0.253819</td><td>0.254589</td><td>-0.000769931</td><td>1</td><td>2.66676e5</td><td>13556.0</td></tr><tr><th>19</th><td>4</td><td>2015</td><td><em>missing</em></td><td><em>missing</em></td><td>4.8848e-5</td><td>1</td><td>39725.1</td><td>440.42</td></tr><tr><th>20</th><td>4</td><td>2016</td><td>-0.185518</td><td>-0.191304</td><td>0.00578611</td><td>1</td><td>37981.3</td><td>406.14</td></tr><tr><th>21</th><td>4</td><td>2017</td><td>0.196535</td><td>0.197305</td><td>-0.000769931</td><td>1</td><td>39282.1</td><td>354.96</td></tr><tr><th>22</th><td>4</td><td>2018</td><td>-0.240202</td><td>-0.240582</td><td>0.000379944</td><td>1</td><td>39489.4</td><td>289.86</td></tr><tr><th>23</th><td>4</td><td>2019</td><td>-0.0938432</td><td>-0.0975512</td><td>0.003708</td><td>1</td><td>38544.0</td><td>262.74</td></tr><tr><th>24</th><td>4</td><td>2020</td><td>-0.0423925</td><td>-0.0498246</td><td>0.00743209</td><td>1</td><td>38169.7</td><td>269.39</td></tr><tr><th>&vellip;</th><td>&vellip;</td><td>&vellip;</td><td>&vellip;</td><td>&vellip;</td><td>&vellip;</td><td>&vellip;</td><td>&vellip;</td><td>&vellip;</td></tr></tbody></table></div>"
      ],
      "text/latex": [
       "\\begin{tabular}{r|ccccccccc}\n",
       "\t& firm\\_ID & year & R & Re & R\\_F & industry\\_ID & sales & OX & \\\\\n",
       "\t\\hline\n",
       "\t& Int64 & Int64 & Float64? & Float64? & Float64 & Int64? & Float64? & Float64? & \\\\\n",
       "\t\\hline\n",
       "\t1 & 1 & 2015 & \\emph{missing} & \\emph{missing} & 0.00743209 & \\emph{missing} & \\emph{missing} & \\emph{missing} & $\\dots$ \\\\\n",
       "\t2 & 1 & 2016 & 0.997273 & 0.996708 & 0.000564989 & 1 & 5948.96 & 564.14 & $\\dots$ \\\\\n",
       "\t3 & 1 & 2017 & 0.687864 & 0.687815 & 4.8848e-5 & 1 & 6505.06 & 691.18 & $\\dots$ \\\\\n",
       "\t4 & 1 & 2018 & -0.213613 & -0.219399 & 0.00578611 & 1 & 6846.38 & 751.29 & $\\dots$ \\\\\n",
       "\t5 & 1 & 2019 & 0.646836 & 0.647606 & -0.000769931 & 1 & 7572.24 & 958.53 & $\\dots$ \\\\\n",
       "\t6 & 1 & 2020 & -0.284303 & -0.284683 & 0.000379944 & 1 & 7537.63 & 778.37 & $\\dots$ \\\\\n",
       "\t7 & 2 & 2015 & \\emph{missing} & \\emph{missing} & 0.00578611 & 1 & 3505.75 & 45.82 & $\\dots$ \\\\\n",
       "\t8 & 2 & 2016 & 0.375229 & 0.375998 & -0.000769931 & 1 & 3491.27 & 51.25 & $\\dots$ \\\\\n",
       "\t9 & 2 & 2017 & 0.640732 & 0.640352 & 0.000379944 & 1 & 3945.66 & 83.43 & $\\dots$ \\\\\n",
       "\t10 & 2 & 2018 & -0.219689 & -0.223397 & 0.003708 & 1 & 4139.33 & 93.4 & $\\dots$ \\\\\n",
       "\t11 & 2 & 2019 & 0.408186 & 0.400754 & 0.00743209 & 1 & 4416.98 & 99.23 & $\\dots$ \\\\\n",
       "\t12 & 2 & 2020 & -0.475468 & -0.476033 & 0.000564989 & 1 & 4606.51 & 97.44 & $\\dots$ \\\\\n",
       "\t13 & 3 & 2015 & \\emph{missing} & \\emph{missing} & 0.003708 & 1 & 4.4079e5 & -8246.19 & $\\dots$ \\\\\n",
       "\t14 & 3 & 2016 & 0.375264 & 0.367832 & 0.00743209 & 1 & 2.64725e5 & 3152.22 & $\\dots$ \\\\\n",
       "\t15 & 3 & 2017 & 0.38682 & 0.386255 & 0.000564989 & 1 & 2.60379e5 & 5403.41 & $\\dots$ \\\\\n",
       "\t16 & 3 & 2018 & -0.174926 & -0.174975 & 4.8848e-5 & 1 & 2.5125e5 & 7001.84 & $\\dots$ \\\\\n",
       "\t17 & 3 & 2019 & 0.658687 & 0.652901 & 0.00578611 & 1 & 2.54891e5 & 9116.46 & $\\dots$ \\\\\n",
       "\t18 & 3 & 2020 & 0.253819 & 0.254589 & -0.000769931 & 1 & 2.66676e5 & 13556.0 & $\\dots$ \\\\\n",
       "\t19 & 4 & 2015 & \\emph{missing} & \\emph{missing} & 4.8848e-5 & 1 & 39725.1 & 440.42 & $\\dots$ \\\\\n",
       "\t20 & 4 & 2016 & -0.185518 & -0.191304 & 0.00578611 & 1 & 37981.3 & 406.14 & $\\dots$ \\\\\n",
       "\t21 & 4 & 2017 & 0.196535 & 0.197305 & -0.000769931 & 1 & 39282.1 & 354.96 & $\\dots$ \\\\\n",
       "\t22 & 4 & 2018 & -0.240202 & -0.240582 & 0.000379944 & 1 & 39489.4 & 289.86 & $\\dots$ \\\\\n",
       "\t23 & 4 & 2019 & -0.0938432 & -0.0975512 & 0.003708 & 1 & 38544.0 & 262.74 & $\\dots$ \\\\\n",
       "\t24 & 4 & 2020 & -0.0423925 & -0.0498246 & 0.00743209 & 1 & 38169.7 & 269.39 & $\\dots$ \\\\\n",
       "\t$\\dots$ & $\\dots$ & $\\dots$ & $\\dots$ & $\\dots$ & $\\dots$ & $\\dots$ & $\\dots$ & $\\dots$ &  \\\\\n",
       "\\end{tabular}\n"
      ],
      "text/plain": [
       "\u001b[1m7920×18 DataFrame\u001b[0m\n",
       "\u001b[1m  Row \u001b[0m│\u001b[1m firm_ID \u001b[0m\u001b[1m year  \u001b[0m\u001b[1m R               \u001b[0m\u001b[1m Re              \u001b[0m\u001b[1m R_F          \u001b[0m\u001b[1m indust\u001b[0m ⋯\n",
       "\u001b[1m      \u001b[0m│\u001b[90m Int64   \u001b[0m\u001b[90m Int64 \u001b[0m\u001b[90m Float64?        \u001b[0m\u001b[90m Float64?        \u001b[0m\u001b[90m Float64      \u001b[0m\u001b[90m Int64?\u001b[0m ⋯\n",
       "──────┼─────────────────────────────────────────────────────────────────────────\n",
       "    1 │       1   2015 \u001b[90m missing         \u001b[0m\u001b[90m missing         \u001b[0m  0.00743209  \u001b[90m     mi\u001b[0m ⋯\n",
       "    2 │       1   2016        0.997273         0.996708    0.000564989\n",
       "    3 │       1   2017        0.687864         0.687815    4.8848e-5\n",
       "    4 │       1   2018       -0.213613        -0.219399    0.00578611\n",
       "    5 │       1   2019        0.646836         0.647606   -0.000769931         ⋯\n",
       "    6 │       1   2020       -0.284303        -0.284683    0.000379944\n",
       "    7 │       2   2015 \u001b[90m missing         \u001b[0m\u001b[90m missing         \u001b[0m  0.00578611\n",
       "    8 │       2   2016        0.375229         0.375998   -0.000769931\n",
       "  ⋮   │    ⋮       ⋮           ⋮                ⋮              ⋮             ⋮ ⋱\n",
       " 7914 │    1514   2020       -0.0336731       -0.0411052   0.00743209          ⋯\n",
       " 7915 │    1515   2015 \u001b[90m missing         \u001b[0m\u001b[90m missing         \u001b[0m  0.000379944\n",
       " 7916 │    1515   2016        0.411333         0.407625    0.003708\n",
       " 7917 │    1515   2017        0.445608         0.438176    0.00743209\n",
       " 7918 │    1515   2018       -0.105888        -0.106453    0.000564989         ⋯\n",
       " 7919 │    1515   2019        0.700809         0.70076     4.8848e-5\n",
       " 7920 │    1515   2020       -0.189867        -0.195653    0.00578611\n",
       "\u001b[36m                                                13 columns and 7905 rows omitted\u001b[0m"
      ]
     },
     "metadata": {},
     "output_type": "display_data"
    }
   ],
   "source": [
    "#ch06_01\n",
    "monthly_data_df = CSV.File(\"../../data/ch05_output1.csv\", missingstring=[\"NA\"]) |> DataFrame\n",
    "annual_data_df = CSV.File(\"../../data/ch05_output2.csv\", missingstring=[\"NA\"]) |> DataFrame"
   ]
  },
  {
   "cell_type": "code",
   "execution_count": 12,
   "metadata": {},
   "outputs": [
    {
     "data": {
      "text/html": [
       "<div class=\"data-frame\"><p>7,920 rows × 20 columns (omitted printing of 12 columns)</p><table class=\"data-frame\"><thead><tr><th></th><th>firm_ID</th><th>year</th><th>R</th><th>Re</th><th>R_F</th><th>industry_ID</th><th>sales</th><th>OX</th></tr><tr><th></th><th title=\"Int64\">Int64</th><th title=\"Int64\">Int64</th><th title=\"Union{Missing, Float64}\">Float64?</th><th title=\"Union{Missing, Float64}\">Float64?</th><th title=\"Float64\">Float64</th><th title=\"Union{Missing, Int64}\">Int64?</th><th title=\"Union{Missing, Float64}\">Float64?</th><th title=\"Union{Missing, Float64}\">Float64?</th></tr></thead><tbody><tr><th>1</th><td>1</td><td>2015</td><td><em>missing</em></td><td><em>missing</em></td><td>0.00743209</td><td><em>missing</em></td><td><em>missing</em></td><td><em>missing</em></td></tr><tr><th>2</th><td>1</td><td>2016</td><td>0.997273</td><td>0.996708</td><td>0.000564989</td><td>1</td><td>5948.96</td><td>564.14</td></tr><tr><th>3</th><td>1</td><td>2017</td><td>0.687864</td><td>0.687815</td><td>4.8848e-5</td><td>1</td><td>6505.06</td><td>691.18</td></tr><tr><th>4</th><td>1</td><td>2018</td><td>-0.213613</td><td>-0.219399</td><td>0.00578611</td><td>1</td><td>6846.38</td><td>751.29</td></tr><tr><th>5</th><td>1</td><td>2019</td><td>0.646836</td><td>0.647606</td><td>-0.000769931</td><td>1</td><td>7572.24</td><td>958.53</td></tr><tr><th>6</th><td>1</td><td>2020</td><td>-0.284303</td><td>-0.284683</td><td>0.000379944</td><td>1</td><td>7537.63</td><td>778.37</td></tr><tr><th>7</th><td>2</td><td>2015</td><td><em>missing</em></td><td><em>missing</em></td><td>0.00578611</td><td>1</td><td>3505.75</td><td>45.82</td></tr><tr><th>8</th><td>2</td><td>2016</td><td>0.375229</td><td>0.375998</td><td>-0.000769931</td><td>1</td><td>3491.27</td><td>51.25</td></tr><tr><th>9</th><td>2</td><td>2017</td><td>0.640732</td><td>0.640352</td><td>0.000379944</td><td>1</td><td>3945.66</td><td>83.43</td></tr><tr><th>10</th><td>2</td><td>2018</td><td>-0.219689</td><td>-0.223397</td><td>0.003708</td><td>1</td><td>4139.33</td><td>93.4</td></tr><tr><th>11</th><td>2</td><td>2019</td><td>0.408186</td><td>0.400754</td><td>0.00743209</td><td>1</td><td>4416.98</td><td>99.23</td></tr><tr><th>12</th><td>2</td><td>2020</td><td>-0.475468</td><td>-0.476033</td><td>0.000564989</td><td>1</td><td>4606.51</td><td>97.44</td></tr><tr><th>13</th><td>3</td><td>2015</td><td><em>missing</em></td><td><em>missing</em></td><td>0.003708</td><td>1</td><td>4.4079e5</td><td>-8246.19</td></tr><tr><th>14</th><td>3</td><td>2016</td><td>0.375264</td><td>0.367832</td><td>0.00743209</td><td>1</td><td>2.64725e5</td><td>3152.22</td></tr><tr><th>15</th><td>3</td><td>2017</td><td>0.38682</td><td>0.386255</td><td>0.000564989</td><td>1</td><td>2.60379e5</td><td>5403.41</td></tr><tr><th>16</th><td>3</td><td>2018</td><td>-0.174926</td><td>-0.174975</td><td>4.8848e-5</td><td>1</td><td>2.5125e5</td><td>7001.84</td></tr><tr><th>17</th><td>3</td><td>2019</td><td>0.658687</td><td>0.652901</td><td>0.00578611</td><td>1</td><td>2.54891e5</td><td>9116.46</td></tr><tr><th>18</th><td>3</td><td>2020</td><td>0.253819</td><td>0.254589</td><td>-0.000769931</td><td>1</td><td>2.66676e5</td><td>13556.0</td></tr><tr><th>19</th><td>4</td><td>2015</td><td><em>missing</em></td><td><em>missing</em></td><td>4.8848e-5</td><td>1</td><td>39725.1</td><td>440.42</td></tr><tr><th>20</th><td>4</td><td>2016</td><td>-0.185518</td><td>-0.191304</td><td>0.00578611</td><td>1</td><td>37981.3</td><td>406.14</td></tr><tr><th>21</th><td>4</td><td>2017</td><td>0.196535</td><td>0.197305</td><td>-0.000769931</td><td>1</td><td>39282.1</td><td>354.96</td></tr><tr><th>22</th><td>4</td><td>2018</td><td>-0.240202</td><td>-0.240582</td><td>0.000379944</td><td>1</td><td>39489.4</td><td>289.86</td></tr><tr><th>23</th><td>4</td><td>2019</td><td>-0.0938432</td><td>-0.0975512</td><td>0.003708</td><td>1</td><td>38544.0</td><td>262.74</td></tr><tr><th>24</th><td>4</td><td>2020</td><td>-0.0423925</td><td>-0.0498246</td><td>0.00743209</td><td>1</td><td>38169.7</td><td>269.39</td></tr><tr><th>&vellip;</th><td>&vellip;</td><td>&vellip;</td><td>&vellip;</td><td>&vellip;</td><td>&vellip;</td><td>&vellip;</td><td>&vellip;</td><td>&vellip;</td></tr></tbody></table></div>"
      ],
      "text/latex": [
       "\\begin{tabular}{r|ccccccccc}\n",
       "\t& firm\\_ID & year & R & Re & R\\_F & industry\\_ID & sales & OX & \\\\\n",
       "\t\\hline\n",
       "\t& Int64 & Int64 & Float64? & Float64? & Float64 & Int64? & Float64? & Float64? & \\\\\n",
       "\t\\hline\n",
       "\t1 & 1 & 2015 & \\emph{missing} & \\emph{missing} & 0.00743209 & \\emph{missing} & \\emph{missing} & \\emph{missing} & $\\dots$ \\\\\n",
       "\t2 & 1 & 2016 & 0.997273 & 0.996708 & 0.000564989 & 1 & 5948.96 & 564.14 & $\\dots$ \\\\\n",
       "\t3 & 1 & 2017 & 0.687864 & 0.687815 & 4.8848e-5 & 1 & 6505.06 & 691.18 & $\\dots$ \\\\\n",
       "\t4 & 1 & 2018 & -0.213613 & -0.219399 & 0.00578611 & 1 & 6846.38 & 751.29 & $\\dots$ \\\\\n",
       "\t5 & 1 & 2019 & 0.646836 & 0.647606 & -0.000769931 & 1 & 7572.24 & 958.53 & $\\dots$ \\\\\n",
       "\t6 & 1 & 2020 & -0.284303 & -0.284683 & 0.000379944 & 1 & 7537.63 & 778.37 & $\\dots$ \\\\\n",
       "\t7 & 2 & 2015 & \\emph{missing} & \\emph{missing} & 0.00578611 & 1 & 3505.75 & 45.82 & $\\dots$ \\\\\n",
       "\t8 & 2 & 2016 & 0.375229 & 0.375998 & -0.000769931 & 1 & 3491.27 & 51.25 & $\\dots$ \\\\\n",
       "\t9 & 2 & 2017 & 0.640732 & 0.640352 & 0.000379944 & 1 & 3945.66 & 83.43 & $\\dots$ \\\\\n",
       "\t10 & 2 & 2018 & -0.219689 & -0.223397 & 0.003708 & 1 & 4139.33 & 93.4 & $\\dots$ \\\\\n",
       "\t11 & 2 & 2019 & 0.408186 & 0.400754 & 0.00743209 & 1 & 4416.98 & 99.23 & $\\dots$ \\\\\n",
       "\t12 & 2 & 2020 & -0.475468 & -0.476033 & 0.000564989 & 1 & 4606.51 & 97.44 & $\\dots$ \\\\\n",
       "\t13 & 3 & 2015 & \\emph{missing} & \\emph{missing} & 0.003708 & 1 & 4.4079e5 & -8246.19 & $\\dots$ \\\\\n",
       "\t14 & 3 & 2016 & 0.375264 & 0.367832 & 0.00743209 & 1 & 2.64725e5 & 3152.22 & $\\dots$ \\\\\n",
       "\t15 & 3 & 2017 & 0.38682 & 0.386255 & 0.000564989 & 1 & 2.60379e5 & 5403.41 & $\\dots$ \\\\\n",
       "\t16 & 3 & 2018 & -0.174926 & -0.174975 & 4.8848e-5 & 1 & 2.5125e5 & 7001.84 & $\\dots$ \\\\\n",
       "\t17 & 3 & 2019 & 0.658687 & 0.652901 & 0.00578611 & 1 & 2.54891e5 & 9116.46 & $\\dots$ \\\\\n",
       "\t18 & 3 & 2020 & 0.253819 & 0.254589 & -0.000769931 & 1 & 2.66676e5 & 13556.0 & $\\dots$ \\\\\n",
       "\t19 & 4 & 2015 & \\emph{missing} & \\emph{missing} & 4.8848e-5 & 1 & 39725.1 & 440.42 & $\\dots$ \\\\\n",
       "\t20 & 4 & 2016 & -0.185518 & -0.191304 & 0.00578611 & 1 & 37981.3 & 406.14 & $\\dots$ \\\\\n",
       "\t21 & 4 & 2017 & 0.196535 & 0.197305 & -0.000769931 & 1 & 39282.1 & 354.96 & $\\dots$ \\\\\n",
       "\t22 & 4 & 2018 & -0.240202 & -0.240582 & 0.000379944 & 1 & 39489.4 & 289.86 & $\\dots$ \\\\\n",
       "\t23 & 4 & 2019 & -0.0938432 & -0.0975512 & 0.003708 & 1 & 38544.0 & 262.74 & $\\dots$ \\\\\n",
       "\t24 & 4 & 2020 & -0.0423925 & -0.0498246 & 0.00743209 & 1 & 38169.7 & 269.39 & $\\dots$ \\\\\n",
       "\t$\\dots$ & $\\dots$ & $\\dots$ & $\\dots$ & $\\dots$ & $\\dots$ & $\\dots$ & $\\dots$ & $\\dots$ &  \\\\\n",
       "\\end{tabular}\n"
      ],
      "text/plain": [
       "\u001b[1m7920×20 DataFrame\u001b[0m\n",
       "\u001b[1m  Row \u001b[0m│\u001b[1m firm_ID \u001b[0m\u001b[1m year  \u001b[0m\u001b[1m R               \u001b[0m\u001b[1m Re              \u001b[0m\u001b[1m R_F          \u001b[0m\u001b[1m indust\u001b[0m ⋯\n",
       "\u001b[1m      \u001b[0m│\u001b[90m Int64   \u001b[0m\u001b[90m Int64 \u001b[0m\u001b[90m Float64?        \u001b[0m\u001b[90m Float64?        \u001b[0m\u001b[90m Float64      \u001b[0m\u001b[90m Int64?\u001b[0m ⋯\n",
       "──────┼─────────────────────────────────────────────────────────────────────────\n",
       "    1 │       1   2015 \u001b[90m missing         \u001b[0m\u001b[90m missing         \u001b[0m  0.00743209  \u001b[90m     mi\u001b[0m ⋯\n",
       "    2 │       1   2016        0.997273         0.996708    0.000564989\n",
       "    3 │       1   2017        0.687864         0.687815    4.8848e-5\n",
       "    4 │       1   2018       -0.213613        -0.219399    0.00578611\n",
       "    5 │       1   2019        0.646836         0.647606   -0.000769931         ⋯\n",
       "    6 │       1   2020       -0.284303        -0.284683    0.000379944\n",
       "    7 │       2   2015 \u001b[90m missing         \u001b[0m\u001b[90m missing         \u001b[0m  0.00578611\n",
       "    8 │       2   2016        0.375229         0.375998   -0.000769931\n",
       "  ⋮   │    ⋮       ⋮           ⋮                ⋮              ⋮             ⋮ ⋱\n",
       " 7914 │    1514   2020       -0.0336731       -0.0411052   0.00743209          ⋯\n",
       " 7915 │    1515   2015 \u001b[90m missing         \u001b[0m\u001b[90m missing         \u001b[0m  0.000379944\n",
       " 7916 │    1515   2016        0.411333         0.407625    0.003708\n",
       " 7917 │    1515   2017        0.445608         0.438176    0.00743209\n",
       " 7918 │    1515   2018       -0.105888        -0.106453    0.000564989         ⋯\n",
       " 7919 │    1515   2019        0.700809         0.70076     4.8848e-5\n",
       " 7920 │    1515   2020       -0.189867        -0.195653    0.00578611\n",
       "\u001b[36m                                                15 columns and 7905 rows omitted\u001b[0m"
      ]
     },
     "metadata": {},
     "output_type": "display_data"
    }
   ],
   "source": [
    "#ch06_02\n",
    "annual_data_df = @chain annual_data_df begin\n",
    "    @orderby(:firm_ID, :year)\n",
    "    groupby(:firm_ID)\n",
    "    @transform(:lagged_ME = lag(:ME))\n",
    "end"
   ]
  },
  {
   "cell_type": "code",
   "execution_count": 13,
   "metadata": {},
   "outputs": [
    {
     "data": {
      "text/html": [
       "<div class=\"data-frame\"><p>7,920 rows × 20 columns (omitted printing of 12 columns)</p><table class=\"data-frame\"><thead><tr><th></th><th>firm_ID</th><th>year</th><th>R</th><th>Re</th><th>R_F</th><th>industry_ID</th><th>sales</th><th>OX</th></tr><tr><th></th><th title=\"Int64\">Int64</th><th title=\"Int64\">Int64</th><th title=\"Union{Missing, Float64}\">Float64?</th><th title=\"Union{Missing, Float64}\">Float64?</th><th title=\"Float64\">Float64</th><th title=\"Union{Missing, Int64}\">Int64?</th><th title=\"Union{Missing, Float64}\">Float64?</th><th title=\"Union{Missing, Float64}\">Float64?</th></tr></thead><tbody><tr><th>1</th><td>1</td><td>2015</td><td><em>missing</em></td><td><em>missing</em></td><td>0.00743209</td><td><em>missing</em></td><td><em>missing</em></td><td><em>missing</em></td></tr><tr><th>2</th><td>1</td><td>2016</td><td>0.997273</td><td>0.996708</td><td>0.000564989</td><td>1</td><td>5948.96</td><td>564.14</td></tr><tr><th>3</th><td>1</td><td>2017</td><td>0.687864</td><td>0.687815</td><td>4.8848e-5</td><td>1</td><td>6505.06</td><td>691.18</td></tr><tr><th>4</th><td>1</td><td>2018</td><td>-0.213613</td><td>-0.219399</td><td>0.00578611</td><td>1</td><td>6846.38</td><td>751.29</td></tr><tr><th>5</th><td>1</td><td>2019</td><td>0.646836</td><td>0.647606</td><td>-0.000769931</td><td>1</td><td>7572.24</td><td>958.53</td></tr><tr><th>6</th><td>1</td><td>2020</td><td>-0.284303</td><td>-0.284683</td><td>0.000379944</td><td>1</td><td>7537.63</td><td>778.37</td></tr><tr><th>7</th><td>2</td><td>2015</td><td><em>missing</em></td><td><em>missing</em></td><td>0.00578611</td><td>1</td><td>3505.75</td><td>45.82</td></tr><tr><th>8</th><td>2</td><td>2016</td><td>0.375229</td><td>0.375998</td><td>-0.000769931</td><td>1</td><td>3491.27</td><td>51.25</td></tr><tr><th>9</th><td>2</td><td>2017</td><td>0.640732</td><td>0.640352</td><td>0.000379944</td><td>1</td><td>3945.66</td><td>83.43</td></tr><tr><th>10</th><td>2</td><td>2018</td><td>-0.219689</td><td>-0.223397</td><td>0.003708</td><td>1</td><td>4139.33</td><td>93.4</td></tr><tr><th>11</th><td>2</td><td>2019</td><td>0.408186</td><td>0.400754</td><td>0.00743209</td><td>1</td><td>4416.98</td><td>99.23</td></tr><tr><th>12</th><td>2</td><td>2020</td><td>-0.475468</td><td>-0.476033</td><td>0.000564989</td><td>1</td><td>4606.51</td><td>97.44</td></tr><tr><th>13</th><td>3</td><td>2015</td><td><em>missing</em></td><td><em>missing</em></td><td>0.003708</td><td>1</td><td>4.4079e5</td><td>-8246.19</td></tr><tr><th>14</th><td>3</td><td>2016</td><td>0.375264</td><td>0.367832</td><td>0.00743209</td><td>1</td><td>2.64725e5</td><td>3152.22</td></tr><tr><th>15</th><td>3</td><td>2017</td><td>0.38682</td><td>0.386255</td><td>0.000564989</td><td>1</td><td>2.60379e5</td><td>5403.41</td></tr><tr><th>16</th><td>3</td><td>2018</td><td>-0.174926</td><td>-0.174975</td><td>4.8848e-5</td><td>1</td><td>2.5125e5</td><td>7001.84</td></tr><tr><th>17</th><td>3</td><td>2019</td><td>0.658687</td><td>0.652901</td><td>0.00578611</td><td>1</td><td>2.54891e5</td><td>9116.46</td></tr><tr><th>18</th><td>3</td><td>2020</td><td>0.253819</td><td>0.254589</td><td>-0.000769931</td><td>1</td><td>2.66676e5</td><td>13556.0</td></tr><tr><th>19</th><td>4</td><td>2015</td><td><em>missing</em></td><td><em>missing</em></td><td>4.8848e-5</td><td>1</td><td>39725.1</td><td>440.42</td></tr><tr><th>20</th><td>4</td><td>2016</td><td>-0.185518</td><td>-0.191304</td><td>0.00578611</td><td>1</td><td>37981.3</td><td>406.14</td></tr><tr><th>21</th><td>4</td><td>2017</td><td>0.196535</td><td>0.197305</td><td>-0.000769931</td><td>1</td><td>39282.1</td><td>354.96</td></tr><tr><th>22</th><td>4</td><td>2018</td><td>-0.240202</td><td>-0.240582</td><td>0.000379944</td><td>1</td><td>39489.4</td><td>289.86</td></tr><tr><th>23</th><td>4</td><td>2019</td><td>-0.0938432</td><td>-0.0975512</td><td>0.003708</td><td>1</td><td>38544.0</td><td>262.74</td></tr><tr><th>24</th><td>4</td><td>2020</td><td>-0.0423925</td><td>-0.0498246</td><td>0.00743209</td><td>1</td><td>38169.7</td><td>269.39</td></tr><tr><th>&vellip;</th><td>&vellip;</td><td>&vellip;</td><td>&vellip;</td><td>&vellip;</td><td>&vellip;</td><td>&vellip;</td><td>&vellip;</td><td>&vellip;</td></tr></tbody></table></div>"
      ],
      "text/latex": [
       "\\begin{tabular}{r|ccccccccc}\n",
       "\t& firm\\_ID & year & R & Re & R\\_F & industry\\_ID & sales & OX & \\\\\n",
       "\t\\hline\n",
       "\t& Int64 & Int64 & Float64? & Float64? & Float64 & Int64? & Float64? & Float64? & \\\\\n",
       "\t\\hline\n",
       "\t1 & 1 & 2015 & \\emph{missing} & \\emph{missing} & 0.00743209 & \\emph{missing} & \\emph{missing} & \\emph{missing} & $\\dots$ \\\\\n",
       "\t2 & 1 & 2016 & 0.997273 & 0.996708 & 0.000564989 & 1 & 5948.96 & 564.14 & $\\dots$ \\\\\n",
       "\t3 & 1 & 2017 & 0.687864 & 0.687815 & 4.8848e-5 & 1 & 6505.06 & 691.18 & $\\dots$ \\\\\n",
       "\t4 & 1 & 2018 & -0.213613 & -0.219399 & 0.00578611 & 1 & 6846.38 & 751.29 & $\\dots$ \\\\\n",
       "\t5 & 1 & 2019 & 0.646836 & 0.647606 & -0.000769931 & 1 & 7572.24 & 958.53 & $\\dots$ \\\\\n",
       "\t6 & 1 & 2020 & -0.284303 & -0.284683 & 0.000379944 & 1 & 7537.63 & 778.37 & $\\dots$ \\\\\n",
       "\t7 & 2 & 2015 & \\emph{missing} & \\emph{missing} & 0.00578611 & 1 & 3505.75 & 45.82 & $\\dots$ \\\\\n",
       "\t8 & 2 & 2016 & 0.375229 & 0.375998 & -0.000769931 & 1 & 3491.27 & 51.25 & $\\dots$ \\\\\n",
       "\t9 & 2 & 2017 & 0.640732 & 0.640352 & 0.000379944 & 1 & 3945.66 & 83.43 & $\\dots$ \\\\\n",
       "\t10 & 2 & 2018 & -0.219689 & -0.223397 & 0.003708 & 1 & 4139.33 & 93.4 & $\\dots$ \\\\\n",
       "\t11 & 2 & 2019 & 0.408186 & 0.400754 & 0.00743209 & 1 & 4416.98 & 99.23 & $\\dots$ \\\\\n",
       "\t12 & 2 & 2020 & -0.475468 & -0.476033 & 0.000564989 & 1 & 4606.51 & 97.44 & $\\dots$ \\\\\n",
       "\t13 & 3 & 2015 & \\emph{missing} & \\emph{missing} & 0.003708 & 1 & 4.4079e5 & -8246.19 & $\\dots$ \\\\\n",
       "\t14 & 3 & 2016 & 0.375264 & 0.367832 & 0.00743209 & 1 & 2.64725e5 & 3152.22 & $\\dots$ \\\\\n",
       "\t15 & 3 & 2017 & 0.38682 & 0.386255 & 0.000564989 & 1 & 2.60379e5 & 5403.41 & $\\dots$ \\\\\n",
       "\t16 & 3 & 2018 & -0.174926 & -0.174975 & 4.8848e-5 & 1 & 2.5125e5 & 7001.84 & $\\dots$ \\\\\n",
       "\t17 & 3 & 2019 & 0.658687 & 0.652901 & 0.00578611 & 1 & 2.54891e5 & 9116.46 & $\\dots$ \\\\\n",
       "\t18 & 3 & 2020 & 0.253819 & 0.254589 & -0.000769931 & 1 & 2.66676e5 & 13556.0 & $\\dots$ \\\\\n",
       "\t19 & 4 & 2015 & \\emph{missing} & \\emph{missing} & 4.8848e-5 & 1 & 39725.1 & 440.42 & $\\dots$ \\\\\n",
       "\t20 & 4 & 2016 & -0.185518 & -0.191304 & 0.00578611 & 1 & 37981.3 & 406.14 & $\\dots$ \\\\\n",
       "\t21 & 4 & 2017 & 0.196535 & 0.197305 & -0.000769931 & 1 & 39282.1 & 354.96 & $\\dots$ \\\\\n",
       "\t22 & 4 & 2018 & -0.240202 & -0.240582 & 0.000379944 & 1 & 39489.4 & 289.86 & $\\dots$ \\\\\n",
       "\t23 & 4 & 2019 & -0.0938432 & -0.0975512 & 0.003708 & 1 & 38544.0 & 262.74 & $\\dots$ \\\\\n",
       "\t24 & 4 & 2020 & -0.0423925 & -0.0498246 & 0.00743209 & 1 & 38169.7 & 269.39 & $\\dots$ \\\\\n",
       "\t$\\dots$ & $\\dots$ & $\\dots$ & $\\dots$ & $\\dots$ & $\\dots$ & $\\dots$ & $\\dots$ & $\\dots$ &  \\\\\n",
       "\\end{tabular}\n"
      ],
      "text/plain": [
       "\u001b[1m7920×20 DataFrame\u001b[0m\n",
       "\u001b[1m  Row \u001b[0m│\u001b[1m firm_ID \u001b[0m\u001b[1m year  \u001b[0m\u001b[1m R               \u001b[0m\u001b[1m Re              \u001b[0m\u001b[1m R_F          \u001b[0m\u001b[1m indust\u001b[0m ⋯\n",
       "\u001b[1m      \u001b[0m│\u001b[90m Int64   \u001b[0m\u001b[90m Int64 \u001b[0m\u001b[90m Float64?        \u001b[0m\u001b[90m Float64?        \u001b[0m\u001b[90m Float64      \u001b[0m\u001b[90m Int64?\u001b[0m ⋯\n",
       "──────┼─────────────────────────────────────────────────────────────────────────\n",
       "    1 │       1   2015 \u001b[90m missing         \u001b[0m\u001b[90m missing         \u001b[0m  0.00743209  \u001b[90m     mi\u001b[0m ⋯\n",
       "    2 │       1   2016        0.997273         0.996708    0.000564989\n",
       "    3 │       1   2017        0.687864         0.687815    4.8848e-5\n",
       "    4 │       1   2018       -0.213613        -0.219399    0.00578611\n",
       "    5 │       1   2019        0.646836         0.647606   -0.000769931         ⋯\n",
       "    6 │       1   2020       -0.284303        -0.284683    0.000379944\n",
       "    7 │       2   2015 \u001b[90m missing         \u001b[0m\u001b[90m missing         \u001b[0m  0.00578611\n",
       "    8 │       2   2016        0.375229         0.375998   -0.000769931\n",
       "  ⋮   │    ⋮       ⋮           ⋮                ⋮              ⋮             ⋮ ⋱\n",
       " 7914 │    1514   2020       -0.0336731       -0.0411052   0.00743209          ⋯\n",
       " 7915 │    1515   2015 \u001b[90m missing         \u001b[0m\u001b[90m missing         \u001b[0m  0.000379944\n",
       " 7916 │    1515   2016        0.411333         0.407625    0.003708\n",
       " 7917 │    1515   2017        0.445608         0.438176    0.00743209\n",
       " 7918 │    1515   2018       -0.105888        -0.106453    0.000564989         ⋯\n",
       " 7919 │    1515   2019        0.700809         0.70076     4.8848e-5\n",
       " 7920 │    1515   2020       -0.189867        -0.195653    0.00578611\n",
       "\u001b[36m                                                15 columns and 7905 rows omitted\u001b[0m"
      ]
     },
     "metadata": {},
     "output_type": "display_data"
    }
   ],
   "source": [
    "#ch06_03\n",
    "annual_data_df = @chain annual_data_df begin\n",
    "    groupby(:year)\n",
    "    @transform(:w_M = :lagged_ME ./ sum(skipmissing(:lagged_ME)))\n",
    "end"
   ]
  },
  {
   "cell_type": "code",
   "execution_count": 15,
   "metadata": {},
   "outputs": [
    {
     "data": {
      "text/html": [
       "<div class=\"data-frame\"><p>7,920 rows × 20 columns (omitted printing of 12 columns)</p><table class=\"data-frame\"><thead><tr><th></th><th>firm_ID</th><th>year</th><th>R</th><th>Re</th><th>R_F</th><th>industry_ID</th><th>sales</th><th>OX</th></tr><tr><th></th><th title=\"Int64\">Int64</th><th title=\"Int64\">Int64</th><th title=\"Union{Missing, Float64}\">Float64?</th><th title=\"Union{Missing, Float64}\">Float64?</th><th title=\"Float64\">Float64</th><th title=\"Union{Missing, Int64}\">Int64?</th><th title=\"Union{Missing, Float64}\">Float64?</th><th title=\"Union{Missing, Float64}\">Float64?</th></tr></thead><tbody><tr><th>1</th><td>1</td><td>2015</td><td><em>missing</em></td><td><em>missing</em></td><td>0.00743209</td><td><em>missing</em></td><td><em>missing</em></td><td><em>missing</em></td></tr><tr><th>2</th><td>1</td><td>2016</td><td>0.997273</td><td>0.996708</td><td>0.000564989</td><td>1</td><td>5948.96</td><td>564.14</td></tr><tr><th>3</th><td>1</td><td>2017</td><td>0.687864</td><td>0.687815</td><td>4.8848e-5</td><td>1</td><td>6505.06</td><td>691.18</td></tr><tr><th>4</th><td>1</td><td>2018</td><td>-0.213613</td><td>-0.219399</td><td>0.00578611</td><td>1</td><td>6846.38</td><td>751.29</td></tr><tr><th>5</th><td>1</td><td>2019</td><td>0.646836</td><td>0.647606</td><td>-0.000769931</td><td>1</td><td>7572.24</td><td>958.53</td></tr><tr><th>6</th><td>1</td><td>2020</td><td>-0.284303</td><td>-0.284683</td><td>0.000379944</td><td>1</td><td>7537.63</td><td>778.37</td></tr><tr><th>7</th><td>2</td><td>2015</td><td><em>missing</em></td><td><em>missing</em></td><td>0.00578611</td><td>1</td><td>3505.75</td><td>45.82</td></tr><tr><th>8</th><td>2</td><td>2016</td><td>0.375229</td><td>0.375998</td><td>-0.000769931</td><td>1</td><td>3491.27</td><td>51.25</td></tr><tr><th>9</th><td>2</td><td>2017</td><td>0.640732</td><td>0.640352</td><td>0.000379944</td><td>1</td><td>3945.66</td><td>83.43</td></tr><tr><th>10</th><td>2</td><td>2018</td><td>-0.219689</td><td>-0.223397</td><td>0.003708</td><td>1</td><td>4139.33</td><td>93.4</td></tr><tr><th>11</th><td>2</td><td>2019</td><td>0.408186</td><td>0.400754</td><td>0.00743209</td><td>1</td><td>4416.98</td><td>99.23</td></tr><tr><th>12</th><td>2</td><td>2020</td><td>-0.475468</td><td>-0.476033</td><td>0.000564989</td><td>1</td><td>4606.51</td><td>97.44</td></tr><tr><th>13</th><td>3</td><td>2015</td><td><em>missing</em></td><td><em>missing</em></td><td>0.003708</td><td>1</td><td>4.4079e5</td><td>-8246.19</td></tr><tr><th>14</th><td>3</td><td>2016</td><td>0.375264</td><td>0.367832</td><td>0.00743209</td><td>1</td><td>2.64725e5</td><td>3152.22</td></tr><tr><th>15</th><td>3</td><td>2017</td><td>0.38682</td><td>0.386255</td><td>0.000564989</td><td>1</td><td>2.60379e5</td><td>5403.41</td></tr><tr><th>16</th><td>3</td><td>2018</td><td>-0.174926</td><td>-0.174975</td><td>4.8848e-5</td><td>1</td><td>2.5125e5</td><td>7001.84</td></tr><tr><th>17</th><td>3</td><td>2019</td><td>0.658687</td><td>0.652901</td><td>0.00578611</td><td>1</td><td>2.54891e5</td><td>9116.46</td></tr><tr><th>18</th><td>3</td><td>2020</td><td>0.253819</td><td>0.254589</td><td>-0.000769931</td><td>1</td><td>2.66676e5</td><td>13556.0</td></tr><tr><th>19</th><td>4</td><td>2015</td><td><em>missing</em></td><td><em>missing</em></td><td>4.8848e-5</td><td>1</td><td>39725.1</td><td>440.42</td></tr><tr><th>20</th><td>4</td><td>2016</td><td>-0.185518</td><td>-0.191304</td><td>0.00578611</td><td>1</td><td>37981.3</td><td>406.14</td></tr><tr><th>21</th><td>4</td><td>2017</td><td>0.196535</td><td>0.197305</td><td>-0.000769931</td><td>1</td><td>39282.1</td><td>354.96</td></tr><tr><th>22</th><td>4</td><td>2018</td><td>-0.240202</td><td>-0.240582</td><td>0.000379944</td><td>1</td><td>39489.4</td><td>289.86</td></tr><tr><th>23</th><td>4</td><td>2019</td><td>-0.0938432</td><td>-0.0975512</td><td>0.003708</td><td>1</td><td>38544.0</td><td>262.74</td></tr><tr><th>24</th><td>4</td><td>2020</td><td>-0.0423925</td><td>-0.0498246</td><td>0.00743209</td><td>1</td><td>38169.7</td><td>269.39</td></tr><tr><th>&vellip;</th><td>&vellip;</td><td>&vellip;</td><td>&vellip;</td><td>&vellip;</td><td>&vellip;</td><td>&vellip;</td><td>&vellip;</td><td>&vellip;</td></tr></tbody></table></div>"
      ],
      "text/latex": [
       "\\begin{tabular}{r|ccccccccc}\n",
       "\t& firm\\_ID & year & R & Re & R\\_F & industry\\_ID & sales & OX & \\\\\n",
       "\t\\hline\n",
       "\t& Int64 & Int64 & Float64? & Float64? & Float64 & Int64? & Float64? & Float64? & \\\\\n",
       "\t\\hline\n",
       "\t1 & 1 & 2015 & \\emph{missing} & \\emph{missing} & 0.00743209 & \\emph{missing} & \\emph{missing} & \\emph{missing} & $\\dots$ \\\\\n",
       "\t2 & 1 & 2016 & 0.997273 & 0.996708 & 0.000564989 & 1 & 5948.96 & 564.14 & $\\dots$ \\\\\n",
       "\t3 & 1 & 2017 & 0.687864 & 0.687815 & 4.8848e-5 & 1 & 6505.06 & 691.18 & $\\dots$ \\\\\n",
       "\t4 & 1 & 2018 & -0.213613 & -0.219399 & 0.00578611 & 1 & 6846.38 & 751.29 & $\\dots$ \\\\\n",
       "\t5 & 1 & 2019 & 0.646836 & 0.647606 & -0.000769931 & 1 & 7572.24 & 958.53 & $\\dots$ \\\\\n",
       "\t6 & 1 & 2020 & -0.284303 & -0.284683 & 0.000379944 & 1 & 7537.63 & 778.37 & $\\dots$ \\\\\n",
       "\t7 & 2 & 2015 & \\emph{missing} & \\emph{missing} & 0.00578611 & 1 & 3505.75 & 45.82 & $\\dots$ \\\\\n",
       "\t8 & 2 & 2016 & 0.375229 & 0.375998 & -0.000769931 & 1 & 3491.27 & 51.25 & $\\dots$ \\\\\n",
       "\t9 & 2 & 2017 & 0.640732 & 0.640352 & 0.000379944 & 1 & 3945.66 & 83.43 & $\\dots$ \\\\\n",
       "\t10 & 2 & 2018 & -0.219689 & -0.223397 & 0.003708 & 1 & 4139.33 & 93.4 & $\\dots$ \\\\\n",
       "\t11 & 2 & 2019 & 0.408186 & 0.400754 & 0.00743209 & 1 & 4416.98 & 99.23 & $\\dots$ \\\\\n",
       "\t12 & 2 & 2020 & -0.475468 & -0.476033 & 0.000564989 & 1 & 4606.51 & 97.44 & $\\dots$ \\\\\n",
       "\t13 & 3 & 2015 & \\emph{missing} & \\emph{missing} & 0.003708 & 1 & 4.4079e5 & -8246.19 & $\\dots$ \\\\\n",
       "\t14 & 3 & 2016 & 0.375264 & 0.367832 & 0.00743209 & 1 & 2.64725e5 & 3152.22 & $\\dots$ \\\\\n",
       "\t15 & 3 & 2017 & 0.38682 & 0.386255 & 0.000564989 & 1 & 2.60379e5 & 5403.41 & $\\dots$ \\\\\n",
       "\t16 & 3 & 2018 & -0.174926 & -0.174975 & 4.8848e-5 & 1 & 2.5125e5 & 7001.84 & $\\dots$ \\\\\n",
       "\t17 & 3 & 2019 & 0.658687 & 0.652901 & 0.00578611 & 1 & 2.54891e5 & 9116.46 & $\\dots$ \\\\\n",
       "\t18 & 3 & 2020 & 0.253819 & 0.254589 & -0.000769931 & 1 & 2.66676e5 & 13556.0 & $\\dots$ \\\\\n",
       "\t19 & 4 & 2015 & \\emph{missing} & \\emph{missing} & 4.8848e-5 & 1 & 39725.1 & 440.42 & $\\dots$ \\\\\n",
       "\t20 & 4 & 2016 & -0.185518 & -0.191304 & 0.00578611 & 1 & 37981.3 & 406.14 & $\\dots$ \\\\\n",
       "\t21 & 4 & 2017 & 0.196535 & 0.197305 & -0.000769931 & 1 & 39282.1 & 354.96 & $\\dots$ \\\\\n",
       "\t22 & 4 & 2018 & -0.240202 & -0.240582 & 0.000379944 & 1 & 39489.4 & 289.86 & $\\dots$ \\\\\n",
       "\t23 & 4 & 2019 & -0.0938432 & -0.0975512 & 0.003708 & 1 & 38544.0 & 262.74 & $\\dots$ \\\\\n",
       "\t24 & 4 & 2020 & -0.0423925 & -0.0498246 & 0.00743209 & 1 & 38169.7 & 269.39 & $\\dots$ \\\\\n",
       "\t$\\dots$ & $\\dots$ & $\\dots$ & $\\dots$ & $\\dots$ & $\\dots$ & $\\dots$ & $\\dots$ & $\\dots$ &  \\\\\n",
       "\\end{tabular}\n"
      ],
      "text/plain": [
       "\u001b[1m7920×20 DataFrame\u001b[0m\n",
       "\u001b[1m  Row \u001b[0m│\u001b[1m firm_ID \u001b[0m\u001b[1m year  \u001b[0m\u001b[1m R               \u001b[0m\u001b[1m Re              \u001b[0m\u001b[1m R_F          \u001b[0m\u001b[1m indust\u001b[0m ⋯\n",
       "\u001b[1m      \u001b[0m│\u001b[90m Int64   \u001b[0m\u001b[90m Int64 \u001b[0m\u001b[90m Float64?        \u001b[0m\u001b[90m Float64?        \u001b[0m\u001b[90m Float64      \u001b[0m\u001b[90m Int64?\u001b[0m ⋯\n",
       "──────┼─────────────────────────────────────────────────────────────────────────\n",
       "    1 │       1   2015 \u001b[90m missing         \u001b[0m\u001b[90m missing         \u001b[0m  0.00743209  \u001b[90m     mi\u001b[0m ⋯\n",
       "    2 │       1   2016        0.997273         0.996708    0.000564989\n",
       "    3 │       1   2017        0.687864         0.687815    4.8848e-5\n",
       "    4 │       1   2018       -0.213613        -0.219399    0.00578611\n",
       "    5 │       1   2019        0.646836         0.647606   -0.000769931         ⋯\n",
       "    6 │       1   2020       -0.284303        -0.284683    0.000379944\n",
       "    7 │       2   2015 \u001b[90m missing         \u001b[0m\u001b[90m missing         \u001b[0m  0.00578611\n",
       "    8 │       2   2016        0.375229         0.375998   -0.000769931\n",
       "  ⋮   │    ⋮       ⋮           ⋮                ⋮              ⋮             ⋮ ⋱\n",
       " 7914 │    1514   2020       -0.0336731       -0.0411052   0.00743209          ⋯\n",
       " 7915 │    1515   2015 \u001b[90m missing         \u001b[0m\u001b[90m missing         \u001b[0m  0.000379944\n",
       " 7916 │    1515   2016        0.411333         0.407625    0.003708\n",
       " 7917 │    1515   2017        0.445608         0.438176    0.00743209\n",
       " 7918 │    1515   2018       -0.105888        -0.106453    0.000564989         ⋯\n",
       " 7919 │    1515   2019        0.700809         0.70076     4.8848e-5\n",
       " 7920 │    1515   2020       -0.189867        -0.195653    0.00578611\n",
       "\u001b[36m                                                15 columns and 7905 rows omitted\u001b[0m"
      ]
     },
     "metadata": {},
     "output_type": "display_data"
    }
   ],
   "source": [
    "#ch06_04\n",
    "annual_data_df = @chain annual_data_df begin\n",
    "    @rtransform begin\n",
    "        :w_M = ifelse(:year >= 2016 && ismissing(:w_M), 0, :w_M)\n",
    "    end\n",
    "end"
   ]
  },
  {
   "cell_type": "code",
   "execution_count": 16,
   "metadata": {},
   "outputs": [
    {
     "data": {
      "text/html": [
       "<div class=\"data-frame\"><p>6 rows × 2 columns</p><table class=\"data-frame\"><thead><tr><th></th><th>year</th><th>weight_sum</th></tr><tr><th></th><th title=\"Int64\">Int64</th><th title=\"Union{Missing, Float64}\">Float64?</th></tr></thead><tbody><tr><th>1</th><td>2015</td><td><em>missing</em></td></tr><tr><th>2</th><td>2016</td><td>1.0</td></tr><tr><th>3</th><td>2017</td><td>1.0</td></tr><tr><th>4</th><td>2018</td><td>1.0</td></tr><tr><th>5</th><td>2019</td><td>1.0</td></tr><tr><th>6</th><td>2020</td><td>1.0</td></tr></tbody></table></div>"
      ],
      "text/latex": [
       "\\begin{tabular}{r|cc}\n",
       "\t& year & weight\\_sum\\\\\n",
       "\t\\hline\n",
       "\t& Int64 & Float64?\\\\\n",
       "\t\\hline\n",
       "\t1 & 2015 & \\emph{missing} \\\\\n",
       "\t2 & 2016 & 1.0 \\\\\n",
       "\t3 & 2017 & 1.0 \\\\\n",
       "\t4 & 2018 & 1.0 \\\\\n",
       "\t5 & 2019 & 1.0 \\\\\n",
       "\t6 & 2020 & 1.0 \\\\\n",
       "\\end{tabular}\n"
      ],
      "text/plain": [
       "\u001b[1m6×2 DataFrame\u001b[0m\n",
       "\u001b[1m Row \u001b[0m│\u001b[1m year  \u001b[0m\u001b[1m weight_sum \u001b[0m\n",
       "\u001b[1m     \u001b[0m│\u001b[90m Int64 \u001b[0m\u001b[90m Float64?   \u001b[0m\n",
       "─────┼───────────────────\n",
       "   1 │  2015 \u001b[90m  missing   \u001b[0m\n",
       "   2 │  2016         1.0\n",
       "   3 │  2017         1.0\n",
       "   4 │  2018         1.0\n",
       "   5 │  2019         1.0\n",
       "   6 │  2020         1.0"
      ]
     },
     "metadata": {},
     "output_type": "display_data"
    }
   ],
   "source": [
    "#ch06_05\n",
    "@chain annual_data_df begin\n",
    "    groupby(:year)\n",
    "    @combine(:weight_sum = sum(:w_M))\n",
    "end"
   ]
  },
  {
   "cell_type": "code",
   "execution_count": null,
   "metadata": {},
   "outputs": [],
   "source": [
    "#ch06_06\n",
    "@chain annual_data_df begin\n",
    "    @select(:year, :firm_ID, :w_M)\n",
    "    outerjoin(monthly_data_df, on = [:year, :firm_ID])\n",
    "    @select()\n",
    "end"
   ]
  },
  {
   "cell_type": "code",
   "execution_count": null,
   "metadata": {},
   "outputs": [],
   "source": [
    "#ch06_06\n",
    "factor_data_df = @chain monthly_data_df begin\n",
    "    @rtransform(:weight_return = :w_M * :R)\n",
    "    @rsubset(:month_ID >= 13)\n",
    "    groupby(:month_ID)\n",
    "    @combine begin\n",
    "        :R_F = mean(:R_F)\n",
    "        :R_M = sum(skipmissing(:weight_return))\n",
    "    end\n",
    "    @rtransform(:R_Me = :R_M - :R_F)\n",
    "end"
   ]
  },
  {
   "cell_type": "code",
   "execution_count": null,
   "metadata": {},
   "outputs": [],
   "source": [
    "@chain factor_data_df begin\n",
    "    plot(x = :R_Me, Geom.histogram)\n",
    "end"
   ]
  },
  {
   "cell_type": "code",
   "execution_count": null,
   "metadata": {},
   "outputs": [],
   "source": [
    "#ch06_09\n",
    "@chain factor_data_df begin\n",
    "    @rtransform(:gross_R_M = 1 + :R_M)\n",
    "    @transform(:cumulative_gross_R_M = cumprod(:gross_R_M))\n",
    "    plot(x = :month_ID, y = :cumulative_gross_R_M, Geom.line)\n",
    "end"
   ]
  },
  {
   "cell_type": "code",
   "execution_count": null,
   "metadata": {},
   "outputs": [],
   "source": [
    "#ch06_10\n",
    "@chain factor_data_df begin\n",
    "    @rtransform(:gross_R_M = 1 + :R_M)\n",
    "    @transform(:cumulative_gross_R_M = cumprod(:gross_R_M))\n",
    "    @select(:month_ID, :cumulative_gross_R_M)\n",
    "    push!([12, 1])\n",
    "    @orderby(:month_ID)\n",
    "    plot(x = :month_ID, y = :cumulative_gross_R_M, Geom.line)\n",
    "end"
   ]
  },
  {
   "cell_type": "code",
   "execution_count": null,
   "metadata": {},
   "outputs": [],
   "source": [
    "#ch06_11\n",
    "annual_data_df = @chain annual_data_df begin\n",
    "    @rsubset(:year >= 2016)\n",
    "    groupby(:year)\n",
    "    @transform(:ME_rank10 = cut(:lagged_ME, 10, labels=1:10))\n",
    "end"
   ]
  },
  {
   "cell_type": "code",
   "execution_count": null,
   "metadata": {},
   "outputs": [],
   "source": [
    "#ch06_12\n",
    "@chain annual_data_df begin\n",
    "    @select(:year, :firm_ID, :ME_rank10)\n",
    "    dropmissing\n",
    "    groupby([:year, :ME_rank10])\n",
    "    @combine(:N = length(:ME_rank10))\n",
    "end"
   ]
  },
  {
   "cell_type": "code",
   "execution_count": null,
   "metadata": {},
   "outputs": [],
   "source": [
    "#ch06_13\n",
    "ME_sorted_portfolio_df = @chain annual_data_df begin\n",
    "    @select(:year, :firm_ID, :ME_rank10)\n",
    "    outerjoin(monthly_data_df, on = [:year, :firm_ID])\n",
    "    dropmissing\n",
    "    groupby([:month_ID, :ME_rank10])\n",
    "    @combine(:Re = mean(:Re))\n",
    "end"
   ]
  },
  {
   "cell_type": "code",
   "execution_count": null,
   "metadata": {},
   "outputs": [],
   "source": [
    "@chain ME_sorted_portfolio_df begin\n",
    "    groupby(:ME_rank10)\n",
    "    @combine(:mean_Re = mean(:Re))\n",
    "    plot(x = :ME_rank10, y = :mean_Re, Geom.bar)\n",
    "end"
   ]
  },
  {
   "cell_type": "code",
   "execution_count": null,
   "metadata": {},
   "outputs": [],
   "source": [
    "#ch06_15\n",
    "@chain annual_data_df begin\n",
    "    @rtransform(:lagged_BEME = :lagged_BE / :lagged_ME)\n",
    "    groupby(:year)\n",
    "    @transform(:BEME_rank10 = cut(:lagged_BEME, 10, labels=1:10))\n",
    "    @select(:year, :firm_ID, :BEME_rank10, :lagged_ME)\n",
    "    outerjoin(monthly_data_df, on = [:year, :firm_ID])\n",
    "    dropmissing\n",
    "    groupby([:month_ID, :BEME_rank10])\n",
    "    @rtransform(:w = :lagged_ME / sum(:lagged_ME))\n",
    "    groupby([:month_ID, :BEME_rank10])\n",
    "    @combine begin\n",
    "        :e_Re = mean(:Re)\n",
    "        :v_Re = sum.(:w .* :Re)\n",
    "    end\n",
    "    groupby(:BEME_rank10)\n",
    "    @combine begin\n",
    "        :e_mean_Re = mean(:e_Re)\n",
    "        :v_mean_Re = mean(:v_Re)\n",
    "    end\n",
    "    plot(x = :BEME_rank10, y = :e_mean_Re, Geom.bar)\n",
    "    #plot(x = :BEME_rank10, y = :v_mean_Re, Geom.bar)\n",
    "end"
   ]
  },
  {
   "cell_type": "code",
   "execution_count": null,
   "metadata": {},
   "outputs": [],
   "source": [
    " ME_sorted_portfolio_df = @chain factor_data_df begin\n",
    "    @select(:month_ID, :R_M, :R_Me)\n",
    "    outerjoin(ME_sorted_portfolio_df, on = [:month_ID])\n",
    "end"
   ]
  },
  {
   "cell_type": "code",
   "execution_count": null,
   "metadata": {},
   "outputs": [],
   "source": [
    "mask = ME_sorted_portfolio_df.ME_rank10 .== 1\n",
    "lm(@formula(Re ~ R_Me), ME_sorted_portfolio_df[mask, :])"
   ]
  },
  {
   "cell_type": "code",
   "execution_count": null,
   "metadata": {},
   "outputs": [],
   "source": [
    "#ch06_19\n",
    "for i in 1:10\n",
    "    mask = ME_sorted_portfolio_df.ME_rank10 .== i\n",
    "    println(lm(@formula(Re ~ R_Me), ME_sorted_portfolio_df[mask, :]))\n",
    "end"
   ]
  },
  {
   "cell_type": "code",
   "execution_count": null,
   "metadata": {},
   "outputs": [],
   "source": []
  }
 ],
 "metadata": {
  "kernelspec": {
   "display_name": "Julia 1.8.0",
   "language": "julia",
   "name": "julia-1.8"
  },
  "language_info": {
   "file_extension": ".jl",
   "mimetype": "application/julia",
   "name": "julia",
   "version": "1.8.0"
  },
  "orig_nbformat": 4
 },
 "nbformat": 4,
 "nbformat_minor": 2
}
